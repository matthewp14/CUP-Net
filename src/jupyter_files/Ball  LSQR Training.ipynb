{
 "cells": [
  {
   "cell_type": "code",
   "execution_count": 1,
   "metadata": {},
   "outputs": [],
   "source": [
    "\"\"\"\n",
    "Created on Wed Feb 26 17:01:56 2020\n",
    "\n",
    "\"\"\"\n",
    "\n",
    "\"\"\" IMPORTS \"\"\"\n",
    "import sys\n",
    "import numpy as np\n",
    "sys.path.append(\"../\")\n",
    "np.random.seed(1337)  # for reproducibility\n",
    "import tensorflow as tf\n",
    "from tensorflow.keras import backend as K\n",
    "from tensorflow.keras.datasets import mnist\n",
    "from tensorflow.keras.models import Sequential, Model\n",
    "from tensorflow.keras.layers import *\n",
    "from tensorflow.keras.layers import Flatten\n",
    "from tensorflow.keras.optimizers import *\n",
    "from tensorflow.keras.callbacks import *\n",
    "from tensorflow.keras.constraints import *\n",
    "from sklearn.model_selection import train_test_split\n",
    "# from keras.utils import np_utils\n",
    "\n",
    "from binary_ops import binary_tanh as binary_tanh_op\n",
    "from binary_layers import BinaryDense, BinaryConv2D\n",
    "\n",
    "import h5py\n",
    "from pathlib import Path\n",
    "import scipy.io as sio\n",
    "\n",
    "import cv2\n",
    "import matplotlib.pyplot as plt\n",
    "from lambda_layers import *\n",
    "from binary_ops import *\n",
    "%matplotlib qt"
   ]
  },
  {
   "cell_type": "code",
   "execution_count": 2,
   "metadata": {},
   "outputs": [
    {
     "data": {
      "text/plain": [
       "(233, 30, 32, 32)"
      ]
     },
     "execution_count": 2,
     "metadata": {},
     "output_type": "execute_result"
    }
   ],
   "source": [
    "ptm = \"../../../../MATLAB/CUP Imaging with TwIST/CUP Imaging with TwIST/\"\n",
    "t = sio.loadmat(ptm+'lsqr_jelly_estimates.mat')\n",
    "t = np.asarray(t['estimates'])\n",
    "t = np.transpose(t,(0,3,1,2))\n",
    "np.save('../../data/jelly_estimates.npy',t)\n",
    "np.shape(t)"
   ]
  },
  {
   "cell_type": "code",
   "execution_count": 3,
   "metadata": {},
   "outputs": [
    {
     "ename": "NameError",
     "evalue": "name 'show_video' is not defined",
     "output_type": "error",
     "traceback": [
      "\u001b[1;31m---------------------------------------------------------------------------\u001b[0m",
      "\u001b[1;31mNameError\u001b[0m                                 Traceback (most recent call last)",
      "\u001b[1;32m<ipython-input-3-2fc13784500c>\u001b[0m in \u001b[0;36m<module>\u001b[1;34m\u001b[0m\n\u001b[1;32m----> 1\u001b[1;33m \u001b[0mshow_video\u001b[0m\u001b[1;33m(\u001b[0m\u001b[0mv2\u001b[0m\u001b[1;33m,\u001b[0m\u001b[0mv2\u001b[0m\u001b[1;33m,\u001b[0m\u001b[1;36m1\u001b[0m\u001b[1;33m)\u001b[0m\u001b[1;33m\u001b[0m\u001b[1;33m\u001b[0m\u001b[0m\n\u001b[0m",
      "\u001b[1;31mNameError\u001b[0m: name 'show_video' is not defined"
     ]
    }
   ],
   "source": [
    "show_video(v2,v2,1)"
   ]
  },
  {
   "cell_type": "code",
   "execution_count": 8,
   "metadata": {},
   "outputs": [
    {
     "data": {
      "text/plain": [
       "<HDF5 dataset \"images\": shape (233, 30, 32, 32), type \"|u1\">"
      ]
     },
     "execution_count": 8,
     "metadata": {},
     "output_type": "execute_result"
    }
   ],
   "source": [
    "file = h5py.File('../../data/hdf5/jelly_vids.h5','r')\n",
    "file['images']"
   ]
  },
  {
   "cell_type": "code",
   "execution_count": 12,
   "metadata": {},
   "outputs": [
    {
     "name": "stdout",
     "output_type": "stream",
     "text": [
      "0.91764706\n",
      "0.039215688\n",
      "0.7921569\n",
      "0.0\n",
      "(70, 30, 32, 32, 1)\n",
      "(163, 30, 32, 32, 1)\n"
     ]
    }
   ],
   "source": [
    "\"\"\" FUNCTIION AND VARIABLE DEFINITIONS \"\"\"\n",
    "def binary_tanh(x):\n",
    "    return binary_tanh_op(x)\n",
    "\n",
    "H = 1.\n",
    "kernel_lr_multiplier = 'Glorot'\n",
    "\n",
    "# # nn\n",
    "batch_size = 50\n",
    "epochs = 20\n",
    "channels = 1\n",
    "img_rows = 30\n",
    "img_cols = 30\n",
    "filters = 32\n",
    "kernel_size = (32, 32)\n",
    "pool_size = (2, 2)\n",
    "hidden_units = 128\n",
    "classes = 10\n",
    "use_bias = False\n",
    "\n",
    "# # learning rate schedule\n",
    "lr_start = 1e-3\n",
    "lr_end = 1e-4\n",
    "lr_decay = (lr_end / lr_start)**(1. / epochs)\n",
    "\n",
    "# # BN\n",
    "epsilon = 1e-6\n",
    "momentum = 0.9\n",
    "\n",
    "# # dropout\n",
    "p1 = 0.25\n",
    "p2 = 0.5\n",
    "\n",
    "hdf5_dir = Path(\"../../data/hdf5/\")\n",
    "\n",
    "def read_many_hdf5(num_images):\n",
    "    \"\"\" Reads image from HDF5.\n",
    "        Parameters:\n",
    "        ---------------\n",
    "        num_images   number of images to read\n",
    "        Returns:\n",
    "        ----------\n",
    "        images      images array, (N, 32, 32, 3) to be stored\n",
    "        labels      associated meta data, int label (N, 1)\n",
    "    \"\"\"\n",
    "    images= []\n",
    "\n",
    "    # Open the HDF5 file\n",
    "    file = h5py.File(hdf5_dir / f\"{num_images}_vids.h5\", \"r+\")\n",
    "\n",
    "    images = np.array(file[\"/images\"]).astype(\"float32\")\n",
    "\n",
    "    return images\n",
    "\n",
    "def np_streak(x):\n",
    "    input_dims = np.shape(x)\n",
    "    output_shape = (input_dims[0],input_dims[1],input_dims[1]+input_dims[2],input_dims[3],input_dims[4])\n",
    "    streak_tensor = np.zeros(output_shape)\n",
    "    for i in range(output_shape[0]):\n",
    "        for j in range(output_shape[1]):\n",
    "            streak_tensor[i,j,j:(output_shape[3]+j),:,:] = x[i,j,:,:,:]\n",
    "    #return streak_tensor\n",
    "    return np.sum(streak_tensor,axis=1)\n",
    "\n",
    "def mask(val,ims,mask):\n",
    "    for i in range(np.shape(val)[0]):\n",
    "        for j in range(np.shape(val)[1]):\n",
    "            val[i,j,:,:] = ims[i,j,:,:] * mask\n",
    "    return val\n",
    "\n",
    "\n",
    "\n",
    "ball_vids = read_many_hdf5(\"jelly\")\n",
    "ball_vids = np.transpose(ball_vids,(0,3,1,2))\n",
    "ball_vids = np.reshape(ball_vids,(233,30,32,32,1))\n",
    "ims = ball_vids /255\n",
    "print(np.max(ims))\n",
    "print(np.min(ims))\n",
    "validate = np.load('../../data/jelly_estimates.npy')\n",
    "validate = validate - np.min(validate) #positive only\n",
    "validate = validate / 255\n",
    "validate = np.reshape(validate,(233,30,32,32,1))\n",
    "validate = np.float32(validate)\n",
    "print(np.max(validate))\n",
    "print(np.min(validate))\n",
    "\n",
    "\n",
    "\n",
    "#validate = validate / 255\n",
    "#ims2 = ims2 /255\n",
    "#ims = ims/255\n",
    "#X_train, X_test, y_train, y_test = train_test_split(ims, validate, test_size=(1/3), random_state=42)\n",
    "#X_train, X_test, y_train, y_test = train_test_split(ims2, validate, test_size=(1/3), random_state=42)\n",
    "\n",
    "MX_train, MX_test, My_train, My_test = train_test_split(validate,ims, test_size = 0.3, random_state = 42)\n",
    "\n",
    "print(np.shape(MX_test))\n",
    "print(np.shape(MX_train))\n",
    "\n",
    "\n",
    "reduce_lr = ReduceLROnPlateau(monitor='val_loss',verbose=1, factor=0.5,\n",
    "                              patience=20, min_lr=1e-7)\n",
    "early_stopping = EarlyStopping(patience=90,verbose=1,restore_best_weights=True)   \n",
    "\n",
    "\n",
    "def custom_loss(y_true, y_pred):\n",
    "\n",
    "  ssim_loss = (1.0-tf.image.ssim(y_true,y_pred,1))/2.0\n",
    "  mse_loss = K.mean(K.square(y_pred-y_true))\n",
    "  #mse_loss = tf.keras.losses.mean_squared_error(y_true,y_pred)\n",
    "\n",
    "  ssim_loss = 0.5*ssim_loss\n",
    "  mse_loss = 0.5*mse_loss\n",
    "\n",
    "  return ssim_loss + mse_loss\n",
    "\n",
    "def ssim_loss(y_true,y_pred):  \n",
    "    return (1.0-tf.image.ssim(y_true,y_pred,1))/2.0\n",
    "\n",
    "def mse_loss(y_true,y_pred):\n",
    "    return K.mean(K.square(y_pred-y_true))"
   ]
  },
  {
   "cell_type": "code",
   "execution_count": 5,
   "metadata": {},
   "outputs": [],
   "source": [
    "show_video(MX_test, My_test, 0)"
   ]
  },
  {
   "cell_type": "code",
   "execution_count": 13,
   "metadata": {},
   "outputs": [
    {
     "data": {
      "text/plain": [
       "1.0"
      ]
     },
     "execution_count": 13,
     "metadata": {},
     "output_type": "execute_result"
    }
   ],
   "source": [
    "np.max(validate)"
   ]
  },
  {
   "cell_type": "code",
   "execution_count": 13,
   "metadata": {},
   "outputs": [],
   "source": [
    "\"\"\" VIDEO FUNCTIONS FOR CHECKING POST TRAINING\"\"\"\n",
    "\n",
    "def get_mask(model,l=0, save = False, filename = \"mask\"):\n",
    "    b = binarize(model.layers[l].weights[0])\n",
    "    figb,axb = plt.subplots(1,1)\n",
    "    axb.imshow(np.reshape(b,(32,32)),cmap=\"gray\")\n",
    "    \n",
    "    if save:\n",
    "        b = np.reshape(b,(32,32))\n",
    "        np.save(filename,b)\n",
    "                            \n",
    "def show_video(y_pred,y_true,num,save=False,filename='test.png'):\n",
    "    yp = np.reshape(y_pred,(-1,30,32,32))\n",
    "    yt = np.reshape(y_true,(-1,30,32,32))\n",
    "    split = np.zeros((5,32,32))\n",
    "    yp_tensor = tf.convert_to_tensor(y_pred)\n",
    "    yt_tensor = tf.convert_to_tensor(y_true)\n",
    "    ssim = np.mean(tf.image.ssim(yt_tensor[num],yp_tensor[num],1))\n",
    "    mse = np.mean(mse_loss(yt_tensor[num],yp_tensor[num]))\n",
    "    fig,ax = plt.subplots(nrows=5,ncols=13,figsize=(21,10),sharex=True,sharey=True)\n",
    "    fig.suptitle(f'Movie: {num} MSE: {mse:.3} SSIM: {ssim:.3}')\n",
    "    for row in range(5):\n",
    "        for col in range(13):\n",
    "            if col < 6:\n",
    "                ax[row,col].imshow(yp[num][5*row+col],cmap=\"gray\")\n",
    "            elif col == 6:\n",
    "                pass\n",
    "            else:\n",
    "                ax[row,col].imshow(yt[num][5*row + (col %7)],cmap=\"gray\")\n",
    "    if save:\n",
    "        fig.savefig(filename)\n",
    "\n",
    "def show_all_videos(videos,rows,cols):\n",
    "    yp = np.reshape(videos, (-1,30,32,32))\n",
    "    fix3,ax3 = plt.subplots(nrows=rows, ncols = cols)\n",
    "    for row in range(rows):\n",
    "        for col in range(cols):\n",
    "            ax3[row,col].imshow(yp[rows*row+col][3],cmap=\"gray\")"
   ]
  },
  {
   "cell_type": "code",
   "execution_count": 14,
   "metadata": {},
   "outputs": [
    {
     "name": "stdout",
     "output_type": "stream",
     "text": [
      "Model: \"model\"\n",
      "__________________________________________________________________________________________________\n",
      "Layer (type)                    Output Shape         Param #     Connected to                     \n",
      "==================================================================================================\n",
      "input_1 (InputLayer)            [(None, 30, 32, 32,  0                                            \n",
      "__________________________________________________________________________________________________\n",
      "time_distributed (TimeDistribut (None, 30, 32, 32, 3 320         input_1[0][0]                    \n",
      "__________________________________________________________________________________________________\n",
      "dropout (Dropout)               (None, 30, 32, 32, 3 0           time_distributed[0][0]           \n",
      "__________________________________________________________________________________________________\n",
      "time_distributed_1 (TimeDistrib (None, 30, 32, 32, 3 9248        dropout[0][0]                    \n",
      "__________________________________________________________________________________________________\n",
      "time_distributed_2 (TimeDistrib (None, 30, 16, 16, 3 0           time_distributed_1[0][0]         \n",
      "__________________________________________________________________________________________________\n",
      "time_distributed_3 (TimeDistrib (None, 30, 16, 16, 6 18496       time_distributed_2[0][0]         \n",
      "__________________________________________________________________________________________________\n",
      "dropout_1 (Dropout)             (None, 30, 16, 16, 6 0           time_distributed_3[0][0]         \n",
      "__________________________________________________________________________________________________\n",
      "time_distributed_4 (TimeDistrib (None, 30, 16, 16, 6 36928       dropout_1[0][0]                  \n",
      "__________________________________________________________________________________________________\n",
      "time_distributed_5 (TimeDistrib (None, 30, 8, 8, 64) 0           time_distributed_4[0][0]         \n",
      "__________________________________________________________________________________________________\n",
      "time_distributed_6 (TimeDistrib (None, 30, 8, 8, 128 73856       time_distributed_5[0][0]         \n",
      "__________________________________________________________________________________________________\n",
      "dropout_2 (Dropout)             (None, 30, 8, 8, 128 0           time_distributed_6[0][0]         \n",
      "__________________________________________________________________________________________________\n",
      "time_distributed_7 (TimeDistrib (None, 30, 8, 8, 128 147584      dropout_2[0][0]                  \n",
      "__________________________________________________________________________________________________\n",
      "time_distributed_8 (TimeDistrib (None, 30, 4, 4, 128 0           time_distributed_7[0][0]         \n",
      "__________________________________________________________________________________________________\n",
      "time_distributed_9 (TimeDistrib (None, 30, 4, 4, 256 295168      time_distributed_8[0][0]         \n",
      "__________________________________________________________________________________________________\n",
      "dropout_3 (Dropout)             (None, 30, 4, 4, 256 0           time_distributed_9[0][0]         \n",
      "__________________________________________________________________________________________________\n",
      "time_distributed_10 (TimeDistri (None, 30, 4, 4, 256 590080      dropout_3[0][0]                  \n",
      "__________________________________________________________________________________________________\n",
      "time_distributed_11 (TimeDistri (None, 30, 2, 2, 256 0           time_distributed_10[0][0]        \n",
      "__________________________________________________________________________________________________\n",
      "time_distributed_12 (TimeDistri (None, 30, 2, 2, 512 1180160     time_distributed_11[0][0]        \n",
      "__________________________________________________________________________________________________\n",
      "dropout_4 (Dropout)             (None, 30, 2, 2, 512 0           time_distributed_12[0][0]        \n",
      "__________________________________________________________________________________________________\n",
      "time_distributed_13 (TimeDistri (None, 30, 2, 2, 512 2359808     dropout_4[0][0]                  \n",
      "__________________________________________________________________________________________________\n",
      "time_distributed_14 (TimeDistri (None, 30, 4, 4, 256 524544      time_distributed_13[0][0]        \n",
      "__________________________________________________________________________________________________\n",
      "concatenate (Concatenate)       (None, 30, 4, 4, 512 0           time_distributed_14[0][0]        \n",
      "                                                                 time_distributed_10[0][0]        \n",
      "__________________________________________________________________________________________________\n",
      "time_distributed_15 (TimeDistri (None, 30, 4, 4, 256 1179904     concatenate[0][0]                \n",
      "__________________________________________________________________________________________________\n",
      "dropout_5 (Dropout)             (None, 30, 4, 4, 256 0           time_distributed_15[0][0]        \n",
      "__________________________________________________________________________________________________\n",
      "time_distributed_16 (TimeDistri (None, 30, 4, 4, 256 590080      dropout_5[0][0]                  \n",
      "__________________________________________________________________________________________________\n",
      "time_distributed_17 (TimeDistri (None, 30, 8, 8, 128 131200      time_distributed_16[0][0]        \n",
      "__________________________________________________________________________________________________\n",
      "concatenate_1 (Concatenate)     (None, 30, 8, 8, 256 0           time_distributed_17[0][0]        \n",
      "                                                                 time_distributed_7[0][0]         \n",
      "__________________________________________________________________________________________________\n",
      "time_distributed_18 (TimeDistri (None, 30, 8, 8, 128 295040      concatenate_1[0][0]              \n",
      "__________________________________________________________________________________________________\n",
      "dropout_6 (Dropout)             (None, 30, 8, 8, 128 0           time_distributed_18[0][0]        \n",
      "__________________________________________________________________________________________________\n",
      "time_distributed_19 (TimeDistri (None, 30, 8, 8, 128 147584      dropout_6[0][0]                  \n",
      "__________________________________________________________________________________________________\n",
      "time_distributed_20 (TimeDistri (None, 30, 16, 16, 6 32832       time_distributed_19[0][0]        \n",
      "__________________________________________________________________________________________________\n",
      "concatenate_2 (Concatenate)     (None, 30, 16, 16, 1 0           time_distributed_20[0][0]        \n",
      "                                                                 time_distributed_4[0][0]         \n",
      "__________________________________________________________________________________________________\n",
      "time_distributed_21 (TimeDistri (None, 30, 16, 16, 6 73792       concatenate_2[0][0]              \n",
      "__________________________________________________________________________________________________\n",
      "dropout_7 (Dropout)             (None, 30, 16, 16, 6 0           time_distributed_21[0][0]        \n",
      "__________________________________________________________________________________________________\n",
      "time_distributed_22 (TimeDistri (None, 30, 16, 16, 6 36928       dropout_7[0][0]                  \n",
      "__________________________________________________________________________________________________\n",
      "time_distributed_23 (TimeDistri (None, 30, 32, 32, 3 8224        time_distributed_22[0][0]        \n",
      "__________________________________________________________________________________________________\n",
      "time_distributed_24 (TimeDistri (None, 30, 32, 32, 3 9248        time_distributed_23[0][0]        \n",
      "__________________________________________________________________________________________________\n",
      "dropout_8 (Dropout)             (None, 30, 32, 32, 3 0           time_distributed_24[0][0]        \n",
      "__________________________________________________________________________________________________\n",
      "time_distributed_25 (TimeDistri (None, 30, 32, 32, 3 9248        dropout_8[0][0]                  \n",
      "__________________________________________________________________________________________________\n",
      "time_distributed_26 (TimeDistri (None, 30, 32, 32, 1 33          time_distributed_25[0][0]        \n",
      "==================================================================================================\n",
      "Total params: 7,750,305\n",
      "Trainable params: 7,750,305\n",
      "Non-trainable params: 0\n",
      "__________________________________________________________________________________________________\n"
     ]
    }
   ],
   "source": [
    "\"\"\" \n",
    "UNET MODEL (NO BATCH NORM)\n",
    "Fixing the weights for the bin_conv1 layer as well as the dense1 layer, ie NON TRAINABLE\n",
    "Feeding in weights from the forward_model above to see if that improves the results from previous session\n",
    "\n",
    "\"\"\"\n",
    "inputs = Input(shape=(30,32,32,1))\n",
    "c1 = TimeDistributed(Conv2D(32, (3, 3), activation='relu', kernel_initializer='he_normal', padding='same')) (inputs)\n",
    "c1 = Dropout(0.1) (c1)\n",
    "c1 = TimeDistributed(Conv2D(32, (3, 3), activation='relu', kernel_initializer='he_normal', padding='same') )(c1)\n",
    "p1 = TimeDistributed(MaxPooling2D((2, 2)))(c1)\n",
    "\n",
    "c2 = TimeDistributed(Conv2D(64, (3, 3), activation='relu', kernel_initializer='he_normal', padding='same'))(p1)\n",
    "c2 = Dropout(0.1) (c2)\n",
    "c2 = TimeDistributed(Conv2D(64, (3, 3), activation='relu', kernel_initializer='he_normal', padding='same') )(c2)\n",
    "p2 = TimeDistributed(MaxPooling2D((2, 2)) )(c2)\n",
    "\n",
    "c3 = TimeDistributed(Conv2D(128, (3, 3), activation='relu', kernel_initializer='he_normal', padding='same') )(p2)\n",
    "c3 = Dropout(0.2) (c3)\n",
    "c3 = TimeDistributed(Conv2D(128, (3, 3), activation='relu', kernel_initializer='he_normal', padding='same') )(c3)\n",
    "p3 = TimeDistributed(MaxPooling2D((2, 2)) )(c3)\n",
    "\n",
    "c4 = TimeDistributed(Conv2D(256, (3, 3), activation='relu', kernel_initializer='he_normal', padding='same') )(p3)\n",
    "c4 = Dropout(0.2) (c4)\n",
    "c4 = TimeDistributed(Conv2D(256, (3, 3), activation='relu', kernel_initializer='he_normal', padding='same') )(c4)\n",
    "p4 = TimeDistributed(MaxPooling2D(pool_size=(2, 2))) (c4)\n",
    "\n",
    "c5 = TimeDistributed(Conv2D(512, (3, 3), activation='relu', kernel_initializer='he_normal', padding='same')) (p4)\n",
    "c5 = Dropout(0.3) (c5)\n",
    "c5 = TimeDistributed(Conv2D(512, (3, 3), activation='relu', kernel_initializer='he_normal', padding='same')) (c5)\n",
    "\n",
    "u6 = TimeDistributed(Conv2DTranspose(256, (2, 2), strides=(2, 2), padding='same'))(c5)\n",
    "u6 = concatenate([u6, c4])\n",
    "c6 = TimeDistributed( Conv2D(256, (3, 3), activation='relu', kernel_initializer='he_normal', padding='same') )(u6)\n",
    "c6 = Dropout(0.2) (c6)\n",
    "c6 = TimeDistributed(Conv2D(256, (3, 3), activation='relu', kernel_initializer='he_normal', padding='same')) (c6)\n",
    "\n",
    "u7 = TimeDistributed(Conv2DTranspose(128, (2, 2), strides=(2, 2), padding='same') )(c6)\n",
    "u7 = concatenate([u7, c3])\n",
    "c7 = TimeDistributed(Conv2D(128, (3, 3), activation='relu', kernel_initializer='he_normal', padding='same')) (u7)\n",
    "c7 = Dropout(0.2) (c7)\n",
    "c7 = TimeDistributed(Conv2D(128, (3, 3), activation='relu', kernel_initializer='he_normal', padding='same')) (c7)\n",
    "    \n",
    "u8 = TimeDistributed(Conv2DTranspose(64, (2, 2), strides=(2, 2), padding='same') )(c7)\n",
    "u8 = concatenate([u8, c2])\n",
    "c8 = TimeDistributed(Conv2D(64, (3, 3), activation='relu', kernel_initializer='he_normal', padding='same')) (u8)\n",
    "c8 = Dropout(0.1) (c8)\n",
    "c8 = TimeDistributed(Conv2D(64, (3, 3), activation='relu', kernel_initializer='he_normal', padding='same')) (c8)\n",
    "\n",
    "u9 = TimeDistributed(Conv2DTranspose(32, (2, 2), strides=(2, 2), padding='same')) (c8)\n",
    "c9 = TimeDistributed(Conv2D(32, (3, 3), activation='relu', kernel_initializer='he_normal', padding='same')) (u9)\n",
    "c9 = Dropout(0.1) (c9)\n",
    "c9 = TimeDistributed(Conv2D(32, (3, 3), activation='relu', kernel_initializer='he_normal', padding='same')) (c9)\n",
    "    \n",
    "outputs = TimeDistributed(Conv2D(1, (1, 1), activation='sigmoid')) (c9)\n",
    "\n",
    "CUPNET2 = Model(inputs = [inputs], outputs = [outputs])\n",
    "    \n",
    "CUPNET2.compile(optimizer = Nadam(), loss = custom_loss, metrics = [ssim_loss,mse_loss],callbacks=[reduce_lr, early_stopping])\n",
    "CUPNET2.summary()"
   ]
  },
  {
   "cell_type": "code",
   "execution_count": 14,
   "metadata": {},
   "outputs": [
    {
     "name": "stdout",
     "output_type": "stream",
     "text": [
      "Model: \"model\"\n",
      "__________________________________________________________________________________________________\n",
      "Layer (type)                    Output Shape         Param #     Connected to                     \n",
      "==================================================================================================\n",
      "input_1 (InputLayer)            [(None, 30, 32, 32,  0                                            \n",
      "__________________________________________________________________________________________________\n",
      "time_distributed (TimeDistribut (None, 30, 32, 32, 3 320         input_1[0][0]                    \n",
      "__________________________________________________________________________________________________\n",
      "batch_normalization (BatchNorma (None, 30, 32, 32, 3 128         time_distributed[0][0]           \n",
      "__________________________________________________________________________________________________\n",
      "dropout (Dropout)               (None, 30, 32, 32, 3 0           batch_normalization[0][0]        \n",
      "__________________________________________________________________________________________________\n",
      "time_distributed_1 (TimeDistrib (None, 30, 32, 32, 3 9248        dropout[0][0]                    \n",
      "__________________________________________________________________________________________________\n",
      "batch_normalization_1 (BatchNor (None, 30, 32, 32, 3 128         time_distributed_1[0][0]         \n",
      "__________________________________________________________________________________________________\n",
      "time_distributed_2 (TimeDistrib (None, 30, 16, 16, 3 0           batch_normalization_1[0][0]      \n",
      "__________________________________________________________________________________________________\n",
      "time_distributed_3 (TimeDistrib (None, 30, 16, 16, 6 18496       time_distributed_2[0][0]         \n",
      "__________________________________________________________________________________________________\n",
      "batch_normalization_2 (BatchNor (None, 30, 16, 16, 6 256         time_distributed_3[0][0]         \n",
      "__________________________________________________________________________________________________\n",
      "dropout_1 (Dropout)             (None, 30, 16, 16, 6 0           batch_normalization_2[0][0]      \n",
      "__________________________________________________________________________________________________\n",
      "time_distributed_4 (TimeDistrib (None, 30, 16, 16, 6 36928       dropout_1[0][0]                  \n",
      "__________________________________________________________________________________________________\n",
      "batch_normalization_3 (BatchNor (None, 30, 16, 16, 6 256         time_distributed_4[0][0]         \n",
      "__________________________________________________________________________________________________\n",
      "time_distributed_5 (TimeDistrib (None, 30, 8, 8, 64) 0           batch_normalization_3[0][0]      \n",
      "__________________________________________________________________________________________________\n",
      "time_distributed_6 (TimeDistrib (None, 30, 8, 8, 128 73856       time_distributed_5[0][0]         \n",
      "__________________________________________________________________________________________________\n",
      "batch_normalization_4 (BatchNor (None, 30, 8, 8, 128 512         time_distributed_6[0][0]         \n",
      "__________________________________________________________________________________________________\n",
      "dropout_2 (Dropout)             (None, 30, 8, 8, 128 0           batch_normalization_4[0][0]      \n",
      "__________________________________________________________________________________________________\n",
      "time_distributed_7 (TimeDistrib (None, 30, 8, 8, 128 147584      dropout_2[0][0]                  \n",
      "__________________________________________________________________________________________________\n",
      "batch_normalization_5 (BatchNor (None, 30, 8, 8, 128 512         time_distributed_7[0][0]         \n",
      "__________________________________________________________________________________________________\n",
      "time_distributed_8 (TimeDistrib (None, 30, 4, 4, 128 0           batch_normalization_5[0][0]      \n",
      "__________________________________________________________________________________________________\n",
      "time_distributed_9 (TimeDistrib (None, 30, 4, 4, 256 295168      time_distributed_8[0][0]         \n",
      "__________________________________________________________________________________________________\n",
      "batch_normalization_6 (BatchNor (None, 30, 4, 4, 256 1024        time_distributed_9[0][0]         \n",
      "__________________________________________________________________________________________________\n",
      "dropout_3 (Dropout)             (None, 30, 4, 4, 256 0           batch_normalization_6[0][0]      \n",
      "__________________________________________________________________________________________________\n",
      "time_distributed_10 (TimeDistri (None, 30, 4, 4, 256 590080      dropout_3[0][0]                  \n",
      "__________________________________________________________________________________________________\n",
      "batch_normalization_7 (BatchNor (None, 30, 4, 4, 256 1024        time_distributed_10[0][0]        \n",
      "__________________________________________________________________________________________________\n",
      "time_distributed_11 (TimeDistri (None, 30, 2, 2, 256 0           batch_normalization_7[0][0]      \n",
      "__________________________________________________________________________________________________\n",
      "time_distributed_12 (TimeDistri (None, 30, 2, 2, 512 1180160     time_distributed_11[0][0]        \n",
      "__________________________________________________________________________________________________\n",
      "batch_normalization_8 (BatchNor (None, 30, 2, 2, 512 2048        time_distributed_12[0][0]        \n",
      "__________________________________________________________________________________________________\n",
      "dropout_4 (Dropout)             (None, 30, 2, 2, 512 0           batch_normalization_8[0][0]      \n",
      "__________________________________________________________________________________________________\n",
      "time_distributed_13 (TimeDistri (None, 30, 2, 2, 512 2359808     dropout_4[0][0]                  \n",
      "__________________________________________________________________________________________________\n",
      "batch_normalization_9 (BatchNor (None, 30, 2, 2, 512 2048        time_distributed_13[0][0]        \n",
      "__________________________________________________________________________________________________\n",
      "time_distributed_14 (TimeDistri (None, 30, 4, 4, 256 524544      batch_normalization_9[0][0]      \n",
      "__________________________________________________________________________________________________\n",
      "concatenate (Concatenate)       (None, 30, 4, 4, 512 0           time_distributed_14[0][0]        \n",
      "                                                                 batch_normalization_7[0][0]      \n",
      "__________________________________________________________________________________________________\n",
      "time_distributed_15 (TimeDistri (None, 30, 4, 4, 256 1179904     concatenate[0][0]                \n",
      "__________________________________________________________________________________________________\n",
      "batch_normalization_10 (BatchNo (None, 30, 4, 4, 256 1024        time_distributed_15[0][0]        \n",
      "__________________________________________________________________________________________________\n",
      "dropout_5 (Dropout)             (None, 30, 4, 4, 256 0           batch_normalization_10[0][0]     \n",
      "__________________________________________________________________________________________________\n",
      "time_distributed_16 (TimeDistri (None, 30, 4, 4, 256 590080      dropout_5[0][0]                  \n",
      "__________________________________________________________________________________________________\n",
      "batch_normalization_11 (BatchNo (None, 30, 4, 4, 256 1024        time_distributed_16[0][0]        \n",
      "__________________________________________________________________________________________________\n",
      "time_distributed_17 (TimeDistri (None, 30, 8, 8, 128 131200      batch_normalization_11[0][0]     \n",
      "__________________________________________________________________________________________________\n",
      "concatenate_1 (Concatenate)     (None, 30, 8, 8, 256 0           time_distributed_17[0][0]        \n",
      "                                                                 batch_normalization_5[0][0]      \n",
      "__________________________________________________________________________________________________\n",
      "time_distributed_18 (TimeDistri (None, 30, 8, 8, 128 295040      concatenate_1[0][0]              \n",
      "__________________________________________________________________________________________________\n",
      "batch_normalization_12 (BatchNo (None, 30, 8, 8, 128 512         time_distributed_18[0][0]        \n",
      "__________________________________________________________________________________________________\n",
      "dropout_6 (Dropout)             (None, 30, 8, 8, 128 0           batch_normalization_12[0][0]     \n",
      "__________________________________________________________________________________________________\n",
      "time_distributed_19 (TimeDistri (None, 30, 8, 8, 128 147584      dropout_6[0][0]                  \n",
      "__________________________________________________________________________________________________\n",
      "batch_normalization_13 (BatchNo (None, 30, 8, 8, 128 512         time_distributed_19[0][0]        \n",
      "__________________________________________________________________________________________________\n",
      "time_distributed_20 (TimeDistri (None, 30, 16, 16, 6 32832       batch_normalization_13[0][0]     \n",
      "__________________________________________________________________________________________________\n",
      "concatenate_2 (Concatenate)     (None, 30, 16, 16, 1 0           time_distributed_20[0][0]        \n",
      "                                                                 batch_normalization_3[0][0]      \n",
      "__________________________________________________________________________________________________\n",
      "time_distributed_21 (TimeDistri (None, 30, 16, 16, 6 73792       concatenate_2[0][0]              \n",
      "__________________________________________________________________________________________________\n",
      "batch_normalization_14 (BatchNo (None, 30, 16, 16, 6 256         time_distributed_21[0][0]        \n",
      "__________________________________________________________________________________________________\n",
      "dropout_7 (Dropout)             (None, 30, 16, 16, 6 0           batch_normalization_14[0][0]     \n",
      "__________________________________________________________________________________________________\n",
      "time_distributed_22 (TimeDistri (None, 30, 16, 16, 6 36928       dropout_7[0][0]                  \n",
      "__________________________________________________________________________________________________\n",
      "batch_normalization_15 (BatchNo (None, 30, 16, 16, 6 256         time_distributed_22[0][0]        \n",
      "__________________________________________________________________________________________________\n",
      "time_distributed_23 (TimeDistri (None, 30, 32, 32, 3 8224        batch_normalization_15[0][0]     \n",
      "__________________________________________________________________________________________________\n",
      "time_distributed_24 (TimeDistri (None, 30, 32, 32, 3 9248        time_distributed_23[0][0]        \n",
      "__________________________________________________________________________________________________\n",
      "batch_normalization_16 (BatchNo (None, 30, 32, 32, 3 128         time_distributed_24[0][0]        \n",
      "__________________________________________________________________________________________________\n",
      "dropout_8 (Dropout)             (None, 30, 32, 32, 3 0           batch_normalization_16[0][0]     \n",
      "__________________________________________________________________________________________________\n",
      "time_distributed_25 (TimeDistri (None, 30, 32, 32, 3 9248        dropout_8[0][0]                  \n",
      "__________________________________________________________________________________________________\n",
      "batch_normalization_17 (BatchNo (None, 30, 32, 32, 3 128         time_distributed_25[0][0]        \n",
      "__________________________________________________________________________________________________\n",
      "time_distributed_26 (TimeDistri (None, 30, 32, 32, 1 33          batch_normalization_17[0][0]     \n",
      "==================================================================================================\n",
      "Total params: 7,762,081\n",
      "Trainable params: 7,756,193\n",
      "Non-trainable params: 5,888\n",
      "__________________________________________________________________________________________________\n"
     ]
    }
   ],
   "source": [
    "\"\"\" \n",
    "UNET MODEL\n",
    "Fixing the weights for the bin_conv1 layer as well as the dense1 layer, ie NON TRAINABLE\n",
    "Feeding in weights from the forward_model above to see if that improves the results from previous session\n",
    "\n",
    "\"\"\"\n",
    "inputs = Input(shape=(30,32,32,1))\n",
    "c1 = TimeDistributed(Conv2D(32, (3, 3), activation='relu', kernel_initializer='he_normal', padding='same')) (inputs)\n",
    "c1 = BatchNormalization() (c1)\n",
    "c1 = Dropout(0.1) (c1)\n",
    "c1 = TimeDistributed(Conv2D(32, (3, 3), activation='relu', kernel_initializer='he_normal', padding='same') )(c1)\n",
    "c1 = BatchNormalization() (c1)\n",
    "p1 = TimeDistributed(MaxPooling2D((2, 2)))(c1)\n",
    "\n",
    "c2 = TimeDistributed(Conv2D(64, (3, 3), activation='relu', kernel_initializer='he_normal', padding='same'))(p1)\n",
    "c2 = BatchNormalization() (c2)\n",
    "c2 = Dropout(0.1) (c2)\n",
    "c2 = TimeDistributed(Conv2D(64, (3, 3), activation='relu', kernel_initializer='he_normal', padding='same') )(c2)\n",
    "c2 = BatchNormalization() (c2)\n",
    "p2 = TimeDistributed(MaxPooling2D((2, 2)) )(c2)\n",
    "\n",
    "c3 = TimeDistributed(Conv2D(128, (3, 3), activation='relu', kernel_initializer='he_normal', padding='same') )(p2)\n",
    "c3 = BatchNormalization() (c3)\n",
    "c3 = Dropout(0.2) (c3)\n",
    "c3 = TimeDistributed(Conv2D(128, (3, 3), activation='relu', kernel_initializer='he_normal', padding='same') )(c3)\n",
    "c3 = BatchNormalization() (c3)\n",
    "p3 = TimeDistributed(MaxPooling2D((2, 2)) )(c3)\n",
    "\n",
    "c4 = TimeDistributed(Conv2D(256, (3, 3), activation='relu', kernel_initializer='he_normal', padding='same') )(p3)\n",
    "c4 = BatchNormalization() (c4)\n",
    "c4 = Dropout(0.2) (c4)\n",
    "c4 = TimeDistributed(Conv2D(256, (3, 3), activation='relu', kernel_initializer='he_normal', padding='same') )(c4)\n",
    "c4 = BatchNormalization() (c4)\n",
    "p4 = TimeDistributed(MaxPooling2D(pool_size=(2, 2))) (c4)\n",
    "\n",
    "c5 = TimeDistributed(Conv2D(512, (3, 3), activation='relu', kernel_initializer='he_normal', padding='same')) (p4)\n",
    "c5 = BatchNormalization() (c5)\n",
    "c5 = Dropout(0.3) (c5)\n",
    "c5 = TimeDistributed(Conv2D(512, (3, 3), activation='relu', kernel_initializer='he_normal', padding='same')) (c5)\n",
    "c5 = BatchNormalization() (c5)\n",
    "\n",
    "u6 = TimeDistributed(Conv2DTranspose(256, (2, 2), strides=(2, 2), padding='same'))(c5)\n",
    "u6 = concatenate([u6, c4])\n",
    "c6 = TimeDistributed( Conv2D(256, (3, 3), activation='relu', kernel_initializer='he_normal', padding='same') )(u6)\n",
    "c6 = BatchNormalization() (c6)\n",
    "c6 = Dropout(0.2) (c6)\n",
    "c6 = TimeDistributed(Conv2D(256, (3, 3), activation='relu', kernel_initializer='he_normal', padding='same')) (c6)\n",
    "c6 = BatchNormalization() (c6)\n",
    "\n",
    "u7 = TimeDistributed(Conv2DTranspose(128, (2, 2), strides=(2, 2), padding='same') )(c6)\n",
    "u7 = concatenate([u7, c3])\n",
    "c7 = TimeDistributed(Conv2D(128, (3, 3), activation='relu', kernel_initializer='he_normal', padding='same')) (u7)\n",
    "c7 = BatchNormalization() (c7)\n",
    "c7 = Dropout(0.2) (c7)\n",
    "c7 = TimeDistributed(Conv2D(128, (3, 3), activation='relu', kernel_initializer='he_normal', padding='same')) (c7)\n",
    "c7 = BatchNormalization() (c7)\n",
    "    \n",
    "u8 = TimeDistributed(Conv2DTranspose(64, (2, 2), strides=(2, 2), padding='same') )(c7)\n",
    "u8 = concatenate([u8, c2])\n",
    "c8 = TimeDistributed(Conv2D(64, (3, 3), activation='relu', kernel_initializer='he_normal', padding='same')) (u8)\n",
    "c8 = BatchNormalization() (c8)\n",
    "c8 = Dropout(0.1) (c8)\n",
    "c8 = TimeDistributed(Conv2D(64, (3, 3), activation='relu', kernel_initializer='he_normal', padding='same')) (c8)\n",
    "c8 = BatchNormalization() (c8)\n",
    "\n",
    "u9 = TimeDistributed(Conv2DTranspose(32, (2, 2), strides=(2, 2), padding='same')) (c8)\n",
    "c9 = TimeDistributed(Conv2D(32, (3, 3), activation='relu', kernel_initializer='he_normal', padding='same')) (u9)\n",
    "c9 = BatchNormalization() (c9)\n",
    "c9 = Dropout(0.1) (c9)\n",
    "c9 = TimeDistributed(Conv2D(32, (3, 3), activation='relu', kernel_initializer='he_normal', padding='same')) (c9)\n",
    "c9 = BatchNormalization() (c9)\n",
    "    \n",
    "outputs = TimeDistributed(Conv2D(1, (1, 1), activation='sigmoid')) (c9)\n",
    "\n",
    "CUPNET2 = Model(inputs = [inputs], outputs = [outputs])\n",
    "    \n",
    "CUPNET2.compile(optimizer = Nadam(), loss = custom_loss, metrics = [ssim_loss,mse_loss],callbacks=[reduce_lr, early_stopping])\n",
    "CUPNET2.summary()"
   ]
  },
  {
   "cell_type": "code",
   "execution_count": 15,
   "metadata": {
    "scrolled": true
   },
   "outputs": [
    {
     "name": "stdout",
     "output_type": "stream",
     "text": [
      "Train on 163 samples, validate on 70 samples\n",
      "Epoch 1/45\n",
      "163/163 - 40s - loss: 0.2763 - ssim_loss: 0.4889 - mse_loss: 0.0600 - val_loss: 0.2857 - val_ssim_loss: 0.4850 - val_mse_loss: 0.0862\n",
      "Epoch 2/45\n",
      "163/163 - 6s - loss: 0.2426 - ssim_loss: 0.4542 - mse_loss: 0.0319 - val_loss: 0.2867 - val_ssim_loss: 0.2902 - val_mse_loss: 0.2799\n",
      "Epoch 3/45\n",
      "163/163 - 6s - loss: 0.1659 - ssim_loss: 0.3074 - mse_loss: 0.0235 - val_loss: 0.2988 - val_ssim_loss: 0.4006 - val_mse_loss: 0.1940\n",
      "Epoch 4/45\n",
      "163/163 - 6s - loss: 0.1325 - ssim_loss: 0.2467 - mse_loss: 0.0192 - val_loss: 0.3146 - val_ssim_loss: 0.4533 - val_mse_loss: 0.1712\n",
      "Epoch 5/45\n",
      "163/163 - 6s - loss: 0.1303 - ssim_loss: 0.2438 - mse_loss: 0.0170 - val_loss: 0.3359 - val_ssim_loss: 0.4656 - val_mse_loss: 0.2050\n",
      "Epoch 6/45\n",
      "163/163 - 6s - loss: 0.1276 - ssim_loss: 0.2403 - mse_loss: 0.0153 - val_loss: 0.1840 - val_ssim_loss: 0.3082 - val_mse_loss: 0.0584\n",
      "Epoch 7/45\n",
      "163/163 - 6s - loss: 0.1263 - ssim_loss: 0.2378 - mse_loss: 0.0146 - val_loss: 0.1904 - val_ssim_loss: 0.3261 - val_mse_loss: 0.0530\n",
      "Epoch 8/45\n",
      "163/163 - 6s - loss: 0.1239 - ssim_loss: 0.2345 - mse_loss: 0.0141 - val_loss: 0.2172 - val_ssim_loss: 0.3346 - val_mse_loss: 0.0985\n",
      "Epoch 9/45\n",
      "163/163 - 6s - loss: 0.1245 - ssim_loss: 0.2348 - mse_loss: 0.0151 - val_loss: 0.2023 - val_ssim_loss: 0.3365 - val_mse_loss: 0.0684\n",
      "Epoch 10/45\n",
      "163/163 - 6s - loss: 0.1219 - ssim_loss: 0.2316 - mse_loss: 0.0120 - val_loss: 0.2670 - val_ssim_loss: 0.4101 - val_mse_loss: 0.1240\n",
      "Epoch 11/45\n",
      "163/163 - 6s - loss: 0.1210 - ssim_loss: 0.2298 - mse_loss: 0.0137 - val_loss: 0.2158 - val_ssim_loss: 0.3550 - val_mse_loss: 0.0764\n",
      "Epoch 12/45\n",
      "163/163 - 6s - loss: 0.1204 - ssim_loss: 0.2291 - mse_loss: 0.0122 - val_loss: 0.2384 - val_ssim_loss: 0.3756 - val_mse_loss: 0.1010\n",
      "Epoch 13/45\n",
      "163/163 - 6s - loss: 0.1195 - ssim_loss: 0.2276 - mse_loss: 0.0127 - val_loss: 0.3636 - val_ssim_loss: 0.4971 - val_mse_loss: 0.2314\n",
      "Epoch 14/45\n",
      "163/163 - 6s - loss: 0.1200 - ssim_loss: 0.2280 - mse_loss: 0.0114 - val_loss: 0.2831 - val_ssim_loss: 0.4235 - val_mse_loss: 0.1442\n",
      "Epoch 15/45\n",
      "163/163 - 7s - loss: 0.1189 - ssim_loss: 0.2266 - mse_loss: 0.0133 - val_loss: 0.2502 - val_ssim_loss: 0.3880 - val_mse_loss: 0.1138\n",
      "Epoch 16/45\n",
      "163/163 - 7s - loss: 0.1186 - ssim_loss: 0.2262 - mse_loss: 0.0112 - val_loss: 0.3697 - val_ssim_loss: 0.4975 - val_mse_loss: 0.2422\n",
      "Epoch 17/45\n",
      "163/163 - 6s - loss: 0.1213 - ssim_loss: 0.2303 - mse_loss: 0.0129 - val_loss: 0.3297 - val_ssim_loss: 0.4865 - val_mse_loss: 0.1748\n",
      "Epoch 18/45\n",
      "163/163 - 6s - loss: 0.1198 - ssim_loss: 0.2281 - mse_loss: 0.0119 - val_loss: 0.3198 - val_ssim_loss: 0.4652 - val_mse_loss: 0.1769\n",
      "Epoch 19/45\n",
      "163/163 - 6s - loss: 0.1186 - ssim_loss: 0.2259 - mse_loss: 0.0111 - val_loss: 0.1761 - val_ssim_loss: 0.3092 - val_mse_loss: 0.0431\n",
      "Epoch 20/45\n",
      "163/163 - 6s - loss: 0.1190 - ssim_loss: 0.2264 - mse_loss: 0.0114 - val_loss: 0.3708 - val_ssim_loss: 0.4975 - val_mse_loss: 0.2475\n",
      "Epoch 21/45\n",
      "163/163 - 6s - loss: 0.1213 - ssim_loss: 0.2297 - mse_loss: 0.0158 - val_loss: 0.3292 - val_ssim_loss: 0.4671 - val_mse_loss: 0.1934\n",
      "Epoch 22/45\n",
      "163/163 - 6s - loss: 0.1181 - ssim_loss: 0.2250 - mse_loss: 0.0110 - val_loss: 0.2591 - val_ssim_loss: 0.3993 - val_mse_loss: 0.1198\n",
      "Epoch 23/45\n",
      "163/163 - 6s - loss: 0.1181 - ssim_loss: 0.2248 - mse_loss: 0.0109 - val_loss: 0.2431 - val_ssim_loss: 0.3821 - val_mse_loss: 0.1050\n",
      "Epoch 24/45\n",
      "163/163 - 6s - loss: 0.1181 - ssim_loss: 0.2247 - mse_loss: 0.0117 - val_loss: 0.2468 - val_ssim_loss: 0.3793 - val_mse_loss: 0.1172\n",
      "Epoch 25/45\n",
      "163/163 - 6s - loss: 0.1193 - ssim_loss: 0.2268 - mse_loss: 0.0123 - val_loss: 0.2544 - val_ssim_loss: 0.3863 - val_mse_loss: 0.1249\n",
      "Epoch 26/45\n",
      "163/163 - 6s - loss: 0.1180 - ssim_loss: 0.2246 - mse_loss: 0.0114 - val_loss: 0.2493 - val_ssim_loss: 0.3871 - val_mse_loss: 0.1134\n",
      "Epoch 27/45\n",
      "163/163 - 6s - loss: 0.1186 - ssim_loss: 0.2256 - mse_loss: 0.0124 - val_loss: 0.1874 - val_ssim_loss: 0.3193 - val_mse_loss: 0.0569\n",
      "Epoch 28/45\n",
      "163/163 - 6s - loss: 0.1172 - ssim_loss: 0.2236 - mse_loss: 0.0120 - val_loss: 0.1873 - val_ssim_loss: 0.3157 - val_mse_loss: 0.0603\n",
      "Epoch 29/45\n",
      "163/163 - 6s - loss: 0.1169 - ssim_loss: 0.2231 - mse_loss: 0.0126 - val_loss: 0.1630 - val_ssim_loss: 0.2877 - val_mse_loss: 0.0392\n",
      "Epoch 30/45\n",
      "163/163 - 6s - loss: 0.1175 - ssim_loss: 0.2242 - mse_loss: 0.0112 - val_loss: 0.1629 - val_ssim_loss: 0.2841 - val_mse_loss: 0.0430\n",
      "Epoch 31/45\n",
      "163/163 - 6s - loss: 0.1170 - ssim_loss: 0.2233 - mse_loss: 0.0114 - val_loss: 0.1755 - val_ssim_loss: 0.3022 - val_mse_loss: 0.0509\n",
      "Epoch 32/45\n",
      "163/163 - 6s - loss: 0.1175 - ssim_loss: 0.2238 - mse_loss: 0.0117 - val_loss: 0.1858 - val_ssim_loss: 0.3222 - val_mse_loss: 0.0508\n",
      "Epoch 33/45\n",
      "163/163 - 6s - loss: 0.1172 - ssim_loss: 0.2234 - mse_loss: 0.0111 - val_loss: 0.1758 - val_ssim_loss: 0.3055 - val_mse_loss: 0.0476\n",
      "Epoch 34/45\n",
      "163/163 - 6s - loss: 0.1169 - ssim_loss: 0.2228 - mse_loss: 0.0115 - val_loss: 0.1820 - val_ssim_loss: 0.3251 - val_mse_loss: 0.0400\n",
      "Epoch 35/45\n",
      "163/163 - 6s - loss: 0.1165 - ssim_loss: 0.2221 - mse_loss: 0.0133 - val_loss: 0.1991 - val_ssim_loss: 0.3368 - val_mse_loss: 0.0618\n",
      "Epoch 36/45\n",
      "163/163 - 6s - loss: 0.1164 - ssim_loss: 0.2220 - mse_loss: 0.0105 - val_loss: 0.1620 - val_ssim_loss: 0.2910 - val_mse_loss: 0.0335\n",
      "Epoch 37/45\n",
      "163/163 - 6s - loss: 0.1166 - ssim_loss: 0.2223 - mse_loss: 0.0105 - val_loss: 0.1795 - val_ssim_loss: 0.3173 - val_mse_loss: 0.0418\n",
      "Epoch 38/45\n",
      "163/163 - 7s - loss: 0.1159 - ssim_loss: 0.2213 - mse_loss: 0.0109 - val_loss: 0.1596 - val_ssim_loss: 0.2907 - val_mse_loss: 0.0286\n",
      "Epoch 39/45\n",
      "163/163 - 7s - loss: 0.1182 - ssim_loss: 0.2251 - mse_loss: 0.0116 - val_loss: 0.2019 - val_ssim_loss: 0.3495 - val_mse_loss: 0.0551\n",
      "Epoch 40/45\n",
      "163/163 - 6s - loss: 0.1163 - ssim_loss: 0.2216 - mse_loss: 0.0110 - val_loss: 0.1547 - val_ssim_loss: 0.2821 - val_mse_loss: 0.0279\n",
      "Epoch 41/45\n",
      "163/163 - 6s - loss: 0.1158 - ssim_loss: 0.2211 - mse_loss: 0.0106 - val_loss: 0.1706 - val_ssim_loss: 0.3063 - val_mse_loss: 0.0355\n",
      "Epoch 42/45\n",
      "163/163 - 6s - loss: 0.1156 - ssim_loss: 0.2205 - mse_loss: 0.0108 - val_loss: 0.1695 - val_ssim_loss: 0.3020 - val_mse_loss: 0.0366\n",
      "Epoch 43/45\n",
      "163/163 - 6s - loss: 0.1155 - ssim_loss: 0.2202 - mse_loss: 0.0114 - val_loss: 0.1612 - val_ssim_loss: 0.2966 - val_mse_loss: 0.0260\n",
      "Epoch 44/45\n",
      "163/163 - 6s - loss: 0.1161 - ssim_loss: 0.2214 - mse_loss: 0.0109 - val_loss: 0.1710 - val_ssim_loss: 0.3066 - val_mse_loss: 0.0368\n",
      "Epoch 45/45\n",
      "163/163 - 6s - loss: 0.1157 - ssim_loss: 0.2207 - mse_loss: 0.0107 - val_loss: 0.1722 - val_ssim_loss: 0.3091 - val_mse_loss: 0.0357\n"
     ]
    }
   ],
   "source": [
    "CUPNET2_history = CUPNET2.fit(MX_train, My_train,\n",
    "          batch_size = 32,epochs= 45,\n",
    "          verbose=2,validation_data=(MX_test,My_test),callbacks=[reduce_lr,early_stopping])"
   ]
  },
  {
   "cell_type": "code",
   "execution_count": 16,
   "metadata": {},
   "outputs": [],
   "source": [
    "plt.plot(CUPNET2_history.history['loss'])\n",
    "plt.plot(CUPNET2_history.history['val_loss'])\n",
    "plt.title('model loss')\n",
    "plt.ylabel('loss')\n",
    "plt.xlabel('epoch')\n",
    "plt.legend(['train', 'test'], loc='upper left')\n",
    "plt.show()"
   ]
  },
  {
   "cell_type": "code",
   "execution_count": null,
   "metadata": {},
   "outputs": [],
   "source": [
    "(np.square(np.zeros((32,32))-np.reshape(My_train[10][10],(32,32))).mean(axis=None))"
   ]
  },
  {
   "cell_type": "code",
   "execution_count": 17,
   "metadata": {},
   "outputs": [
    {
     "name": "stdout",
     "output_type": "stream",
     "text": [
      "\r",
      "70/1 [====================================================================================================================================================================================================================================================================================================================================================================================================================================================================================================================================================================================================================================================================================================================================================================================================================================================================================================================================================================================================================================================================================================================================================================================================================================================================================================================================================================================================================================================================================================================================================================================================================================================================================================================================================================================================================================================================================================================================================================================================================================================================================================================================================================================] - 2s 22ms/sample\n"
     ]
    }
   ],
   "source": [
    "#y_train_pred = CUPNET2.predict(MX_train)\n",
    "y_test_pred = CUPNET2.predict(MX_test,verbose=1)\n"
   ]
  },
  {
   "cell_type": "code",
   "execution_count": 19,
   "metadata": {},
   "outputs": [],
   "source": [
    "npdir = \"D:/Matt/\"\n",
    "np.save(npdir+'ball_lsqr_test_predictions',y_test_pred)\n",
    "np.save(npdir+'ball_lsqr_train_predictions',y_train_pred)\n",
    "np.save(npdir+'ball_lsqr_training_ims',My_train)\n",
    "np.save(npdir+'ball_lsqr_test_ims',My_test)"
   ]
  },
  {
   "cell_type": "code",
   "execution_count": 20,
   "metadata": {},
   "outputs": [],
   "source": [
    "show_video(y_train_pred,My_train,200)"
   ]
  },
  {
   "cell_type": "code",
   "execution_count": 21,
   "metadata": {},
   "outputs": [],
   "source": [
    "show_video(y_test_pred,My_test,200,True,'lsqr_test_200.png')"
   ]
  },
  {
   "cell_type": "code",
   "execution_count": null,
   "metadata": {},
   "outputs": [],
   "source": [
    "CUPNET.load_weights(\"../../data/model_stuff/cupnet_jelly_weights_4_23.h5\")"
   ]
  },
  {
   "cell_type": "code",
   "execution_count": null,
   "metadata": {},
   "outputs": [],
   "source": [
    "b = CUPNET.layers[1].get_weights()\n",
    "b = binarize(tf.convert_to_tensor(b))\n",
    "b = np.reshape(b,(32,32))\n",
    "np.save('cupnet_jelly_mask',b)"
   ]
  },
  {
   "cell_type": "code",
   "execution_count": null,
   "metadata": {
    "scrolled": true
   },
   "outputs": [],
   "source": [
    "CUPNET.layers[1].set_weights(binary_weights)\n",
    "CUPNET.layers[6].set_weights(inverse_weights)\n",
    "CUPNET.summary()"
   ]
  },
  {
   "cell_type": "code",
   "execution_count": null,
   "metadata": {},
   "outputs": [],
   "source": [
    "\"\"\" CUPNET TRAINING \"\"\"\n",
    "CUPNET_history = CUPNET.fit(MX_train, My_train,\n",
    "          batch_size = 32,epochs= 100,\n",
    "          verbose=2,validation_data=(MX_test,My_test),callbacks=[reduce_lr,early_stopping])"
   ]
  },
  {
   "cell_type": "code",
   "execution_count": 27,
   "metadata": {},
   "outputs": [],
   "source": [
    "CUPNET2.save_weights(\"../../data/model_stuff/cupnet2_ball_video_weights_5_3.h5\")"
   ]
  },
  {
   "cell_type": "code",
   "execution_count": null,
   "metadata": {},
   "outputs": [],
   "source": [
    "print(CUPNET_history.history.keys())"
   ]
  },
  {
   "cell_type": "code",
   "execution_count": null,
   "metadata": {},
   "outputs": [],
   "source": [
    "# summarize history for loss\n",
    "plt.plot(CUPNET_history.history['loss'])\n",
    "plt.plot(CUPNET_history.history['val_loss'])\n",
    "plt.title('model loss')\n",
    "plt.ylabel('loss')\n",
    "plt.xlabel('epoch')\n",
    "plt.legend(['train', 'test'], loc='upper left')\n",
    "plt.show()"
   ]
  },
  {
   "cell_type": "code",
   "execution_count": null,
   "metadata": {},
   "outputs": [],
   "source": [
    "plt.plot(forward_history.history['loss'])\n",
    "plt.plot(forward_history.history['val_loss'])\n",
    "plt.title('forward_model loss')\n",
    "plt.ylabel('loss')\n",
    "plt.xlabel('epoch')\n",
    "plt.legend(['train', 'test'], loc='upper left')\n",
    "plt.show()"
   ]
  },
  {
   "cell_type": "code",
   "execution_count": null,
   "metadata": {},
   "outputs": [],
   "source": [
    "y_train_pred = CUPNET.predict(MX_train)\n",
    "y_test_pred = CUPNET.predict(MX_test)\n"
   ]
  },
  {
   "cell_type": "code",
   "execution_count": 21,
   "metadata": {},
   "outputs": [],
   "source": [
    "show_video(y_test_pred,MX_test,200,True,'test_balls_200.png')"
   ]
  },
  {
   "cell_type": "code",
   "execution_count": 22,
   "metadata": {},
   "outputs": [],
   "source": [
    "show_video(y_train_pred,MX_train,200,True,'train_balls_200.png')"
   ]
  },
  {
   "cell_type": "code",
   "execution_count": null,
   "metadata": {},
   "outputs": [],
   "source": [
    "def store_many_hdf5(images,name):\n",
    "\n",
    "    num_images = len(images)\n",
    "    try:\n",
    "        os.mkdir(\"../../data/hdf5\")\n",
    "    except: \n",
    "        pass\n",
    "\n",
    "    # Create a new HDF5 file\n",
    "    file = h5py.File(hdf5_dir / f\"{name}_vids.h5\", \"w\")\n",
    "\n",
    "    # Create a dataset in the file\n",
    "    dataset = file.create_dataset(\n",
    "        \"images\", data=images\n",
    "    )    \n",
    "    \n",
    "    file.close()"
   ]
  },
  {
   "cell_type": "code",
   "execution_count": null,
   "metadata": {},
   "outputs": [],
   "source": [
    "np.save(\"../../data/hdf5/u_net_jelly_test_ims\",y_test_pred)"
   ]
  },
  {
   "cell_type": "code",
   "execution_count": null,
   "metadata": {},
   "outputs": [],
   "source": [
    "store_many_hdf5(y_test_pred,\"u_net_predict\")"
   ]
  },
  {
   "cell_type": "code",
   "execution_count": null,
   "metadata": {},
   "outputs": [],
   "source": [
    "import scipy.io as sio\n",
    "twist_jelly = sio.loadmat('../../data/hdf5/jelly_resized.mat')\n",
    "jelly = np.asarray(twist_jelly['sample'])\n",
    "jelly = np.transpose(jelly,(2,0,1))\n",
    "jelly = np.reshape(jelly[30:60], (1,30,32,32,1))\n",
    "print(np.shape(jelly))"
   ]
  },
  {
   "cell_type": "code",
   "execution_count": null,
   "metadata": {},
   "outputs": [],
   "source": [
    "j_pred = CUPNET.predict(jelly)"
   ]
  },
  {
   "cell_type": "code",
   "execution_count": 45,
   "metadata": {},
   "outputs": [
    {
     "data": {
      "text/plain": [
       "(300, 30, 32, 32, 1)"
      ]
     },
     "execution_count": 45,
     "metadata": {},
     "output_type": "execute_result"
    }
   ],
   "source": [
    "np.shape(y_test_pred)"
   ]
  },
  {
   "cell_type": "code",
   "execution_count": 50,
   "metadata": {},
   "outputs": [],
   "source": [
    "ssims = []\n",
    "import random\n",
    "inds = random.sample(range(300),300)\n",
    "for i in inds:\n",
    "    ssims.append(np.mean(tf.image.ssim(tf.convert_to_tensor(y_test_pred[i]),tf.convert_to_tensor(My_test[i]),1)))\n",
    "    "
   ]
  },
  {
   "cell_type": "code",
   "execution_count": 51,
   "metadata": {},
   "outputs": [
    {
     "name": "stdout",
     "output_type": "stream",
     "text": [
      "0.931571\n",
      "0.8524596\n",
      "0.7254134\n"
     ]
    }
   ],
   "source": [
    "min_ind = inds[np.argmin(ssims)]\n",
    "max_ind = inds[np.argmax(ssims)]\n",
    "print(max(ssims))\n",
    "print(np.mean(ssims))\n",
    "print(min(ssims))"
   ]
  },
  {
   "cell_type": "code",
   "execution_count": 59,
   "metadata": {},
   "outputs": [],
   "source": [
    "show_video(y_test_pred,My_test,min_ind,True,'worst_lsqr_test_im.png')\n",
    "\n"
   ]
  },
  {
   "cell_type": "code",
   "execution_count": 55,
   "metadata": {},
   "outputs": [
    {
     "data": {
      "text/plain": [
       "(5000, 32, 32, 32)"
      ]
     },
     "execution_count": 55,
     "metadata": {},
     "output_type": "execute_result"
    }
   ],
   "source": [
    "z = h5py.File('../../data/tr500_600.hdf','r')\n",
    "z = z['data']\n",
    "np.shape(z)"
   ]
  },
  {
   "cell_type": "code",
   "execution_count": 56,
   "metadata": {},
   "outputs": [],
   "source": [
    "def show_diff(im_true, im_pred,num,save=False,filename='image.png'):\n",
    "    im3 = im_true[num] - im_pred[num]\n",
    "    im3 = np.reshape(im3,(30,32,32))\n",
    "    im_true = np.reshape(im_true[num],(30,32,32))\n",
    "    fig,ax = plt.subplots(nrows=5,ncols=13,figsize=(21,10),sharex=True,sharey=True)\n",
    "    fig.suptitle(f'Difference Map and Ground Truth for Image {num}')\n",
    "    for row in range(5):\n",
    "        for col in range(13):\n",
    "            if col < 6:\n",
    "                ax[row,col].imshow(im3[5*row+col],cmap=\"gray\")\n",
    "            elif col == 6:\n",
    "                pass\n",
    "            else:\n",
    "                ax[row,col].imshow(im_true[5*row + (col %7)],cmap=\"gray\")\n",
    "    if save:\n",
    "        dir = '../../data/'\n",
    "        fig.savefig(dir+filename)"
   ]
  },
  {
   "cell_type": "code",
   "execution_count": 58,
   "metadata": {},
   "outputs": [],
   "source": [
    "show_diff(My_test,y_test_pred,min_ind,True,'worst_lsqr_test_diff.png')"
   ]
  },
  {
   "cell_type": "code",
   "execution_count": 60,
   "metadata": {},
   "outputs": [],
   "source": [
    "show_diff(My_test,y_test_pred,max_ind,True,'best_lsqr_test_diff.png')"
   ]
  },
  {
   "cell_type": "code",
   "execution_count": null,
   "metadata": {},
   "outputs": [],
   "source": []
  }
 ],
 "metadata": {
  "kernelspec": {
   "display_name": "Python 3",
   "language": "python",
   "name": "python3"
  },
  "language_info": {
   "codemirror_mode": {
    "name": "ipython",
    "version": 3
   },
   "file_extension": ".py",
   "mimetype": "text/x-python",
   "name": "python",
   "nbconvert_exporter": "python",
   "pygments_lexer": "ipython3",
   "version": "3.7.6"
  }
 },
 "nbformat": 4,
 "nbformat_minor": 4
}
