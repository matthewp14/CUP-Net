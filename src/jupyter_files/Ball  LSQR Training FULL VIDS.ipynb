{
 "cells": [
  {
   "cell_type": "code",
   "execution_count": 1,
   "metadata": {},
   "outputs": [],
   "source": [
    "\"\"\"\n",
    "Created on Wed Feb 26 17:01:56 2020\n",
    "\n",
    "\"\"\"\n",
    "\n",
    "\"\"\" IMPORTS \"\"\"\n",
    "import sys\n",
    "import os\n",
    "os.environ['CUDA_VISIBLE_DEVICES'] = '-1' #CPU ONLY\n",
    "import numpy as np\n",
    "sys.path.append(\"../\")\n",
    "np.random.seed(1337)  # for reproducibility\n",
    "import tensorflow as tf\n",
    "from tensorflow.keras import backend as K\n",
    "from tensorflow.keras.datasets import mnist\n",
    "from tensorflow.keras.models import Sequential, Model\n",
    "from tensorflow.keras.layers import *\n",
    "from tensorflow.keras.layers import Flatten\n",
    "from tensorflow.keras.optimizers import *\n",
    "from tensorflow.keras.callbacks import *\n",
    "from tensorflow.keras.datasets import mnist\n",
    "from tensorflow.keras.constraints import *\n",
    "from sklearn.model_selection import train_test_split\n",
    "# from keras.utils import np_utils\n",
    "\n",
    "from binary_ops import binary_tanh as binary_tanh_op\n",
    "from binary_layers import BinaryDense, BinaryConv2D\n",
    "\n",
    "import h5py\n",
    "from pathlib import Path\n",
    "import scipy.io as sio\n",
    "\n",
    "import cv2\n",
    "import matplotlib.pyplot as plt\n",
    "from lambda_layers import *\n",
    "from binary_ops import *\n",
    "%matplotlib qt"
   ]
  },
  {
   "cell_type": "code",
   "execution_count": null,
   "metadata": {},
   "outputs": [],
   "source": []
  },
  {
   "cell_type": "code",
   "execution_count": null,
   "metadata": {},
   "outputs": [],
   "source": [
    "np.max(fbv)\n",
    "np.min(fbv)"
   ]
  },
  {
   "cell_type": "code",
   "execution_count": 2,
   "metadata": {},
   "outputs": [
    {
     "name": "stdout",
     "output_type": "stream",
     "text": [
      "val (100, 100, 256, 256, 1) true (100, 100, 256, 256)\n",
      "(30, 100, 256, 256, 1)\n",
      "(70, 100, 256, 256, 1)\n"
     ]
    }
   ],
   "source": [
    "\"\"\" FUNCTIION AND VARIABLE DEFINITIONS \"\"\"\n",
    "def binary_tanh(x):\n",
    "    return binary_tanh_op(x)\n",
    "\n",
    "H = 1.\n",
    "kernel_lr_multiplier = 'Glorot'\n",
    "\n",
    "# # nn\n",
    "batch_size = 50\n",
    "epochs = 20\n",
    "channels = 1\n",
    "img_rows = 30\n",
    "img_cols = 30\n",
    "filters = 32\n",
    "kernel_size = (32, 32)\n",
    "pool_size = (2, 2)\n",
    "hidden_units = 128\n",
    "classes = 10\n",
    "use_bias = False\n",
    "\n",
    "# # learning rate schedule\n",
    "lr_start = 1e-3\n",
    "lr_end = 1e-4\n",
    "lr_decay = (lr_end / lr_start)**(1. / epochs)\n",
    "\n",
    "# # BN\n",
    "epsilon = 1e-6\n",
    "momentum = 0.9\n",
    "\n",
    "# # dropout\n",
    "p1 = 0.25\n",
    "p2 = 0.5\n",
    "\n",
    "hdf5_dir = Path(\"../../data/\")\n",
    "\n",
    "def read_many_hdf5(num_images):\n",
    "    \"\"\" Reads image from HDF5.\n",
    "        Parameters:\n",
    "        ---------------\n",
    "        num_images   number of images to read\n",
    "        Returns:\n",
    "        ----------\n",
    "        images      images array, (N, 32, 32, 3) to be stored\n",
    "        labels      associated meta data, int label (N, 1)\n",
    "    \"\"\"\n",
    "    images= []\n",
    "\n",
    "    # Open the HDF5 file\n",
    "    file = h5py.File(hdf5_dir / f\"{num_images}_vids.hdf\", \"r+\")\n",
    "\n",
    "    images = np.array(file[\"/data\"]).astype(\"float32\")\n",
    "\n",
    "    return images\n",
    "\n",
    "def np_streak(x):\n",
    "    input_dims = np.shape(x)\n",
    "    output_shape = (input_dims[0],input_dims[1],input_dims[1]+input_dims[2],input_dims[3],input_dims[4])\n",
    "    streak_tensor = np.zeros(output_shape)\n",
    "    for i in range(output_shape[0]):\n",
    "        for j in range(output_shape[1]):\n",
    "            streak_tensor[i,j,j:(output_shape[3]+j),:,:] = x[i,j,:,:,:]\n",
    "    #return streak_tensor\n",
    "    return np.sum(streak_tensor,axis=1)\n",
    "\n",
    "def mask(val,ims,mask):\n",
    "    for i in range(np.shape(val)[0]):\n",
    "        for j in range(np.shape(val)[1]):\n",
    "            val[i,j,:,:] = ims[i,j,:,:] * mask\n",
    "    return val\n",
    "\n",
    "\n",
    "\n",
    "ptm = \"../../../../MATLAB/CUP Imaging with TwIST/CUP Imaging with TwIST/\"\n",
    "ball_vids = h5py.File(ptm+'full_sized_1.hdf','r')\n",
    "ball_vids = np.asarray(ball_vids['data'])\n",
    "ball_vids = np.transpose(ball_vids,(0,3,1,2))\n",
    "ims = np.reshape(ball_vids,(100,100,256,256,1))\n",
    "validate = h5py.File(ptm+'full_ball_vids.h5','r')\n",
    "validate = np.asarray(validate['data'])\n",
    "validate = np.transpose(validate,(0,3,1,2))\n",
    "validate = validate - np.min(validate)\n",
    "validate = np.reshape(validate,(100,100,256,256,1))\n",
    "print(f'val {np.shape(validate)} true {np.shape(ball_vids)}')\n",
    "\n",
    "\n",
    "\n",
    "#validate = validate / 255\n",
    "#ims2 = ims2 /255\n",
    "#ims = ims/255\n",
    "#X_train, X_test, y_train, y_test = train_test_split(ims, validate, test_size=(1/3), random_state=42)\n",
    "#X_train, X_test, y_train, y_test = train_test_split(ims2, validate, test_size=(1/3), random_state=42)\n",
    "\n",
    "MX_train, MX_test, My_train, My_test = train_test_split(validate,ims, test_size = 0.3, random_state = 42)\n",
    "\n",
    "print(np.shape(MX_test))\n",
    "print(np.shape(MX_train))\n",
    "\n",
    "\n",
    "reduce_lr = ReduceLROnPlateau(monitor='val_loss',verbose=1, factor=0.5,\n",
    "                              patience=20, min_lr=1e-7)\n",
    "early_stopping = EarlyStopping(patience=90,verbose=1,restore_best_weights=True)   \n",
    "\n",
    "\n",
    "def custom_loss(y_true, y_pred):\n",
    "\n",
    "  ssim_loss = (1.0-tf.image.ssim(y_true,y_pred,1))/2.0\n",
    "  mse_loss = K.mean(K.square(y_pred-y_true))\n",
    "  #mse_loss = tf.keras.losses.mean_squared_error(y_true,y_pred)\n",
    "\n",
    "  ssim_loss = 0.5*ssim_loss\n",
    "  mse_loss = 0.5*mse_loss\n",
    "\n",
    "  return ssim_loss + mse_loss\n",
    "\n",
    "def ssim_loss(y_true,y_pred):  \n",
    "    return (1.0-tf.image.ssim(y_true,y_pred,1))/2.0\n",
    "\n",
    "def mse_loss(y_true,y_pred):\n",
    "    return K.mean(K.square(y_pred-y_true))"
   ]
  },
  {
   "cell_type": "code",
   "execution_count": null,
   "metadata": {},
   "outputs": [],
   "source": [
    "plt.imshow(np.reshape(validate[0][0],(256,256)))"
   ]
  },
  {
   "cell_type": "code",
   "execution_count": null,
   "metadata": {},
   "outputs": [],
   "source": [
    "np.min(validate)"
   ]
  },
  {
   "cell_type": "code",
   "execution_count": null,
   "metadata": {},
   "outputs": [],
   "source": [
    "\"\"\" VIDEO FUNCTIONS FOR CHECKING POST TRAINING\"\"\"\n",
    "\n",
    "def get_mask(model,l=0, save = False, filename = \"mask\"):\n",
    "    b = binarize(model.layers[l].weights[0])\n",
    "    figb,axb = plt.subplots(1,1)\n",
    "    axb.imshow(np.reshape(b,(32,32)),cmap=\"gray\")\n",
    "    \n",
    "    if save:\n",
    "        b = np.reshape(b,(32,32))\n",
    "        np.save(filename,b)\n",
    "                            \n",
    "def show_video(y_pred,y_true,num,save=False,filename='test.png'):\n",
    "    yp = np.reshape(y_pred,(-1,100,256,256))\n",
    "    yt = np.reshape(y_true,(-1,100,256,256))\n",
    "    yp_tensor = tf.convert_to_tensor(y_pred)\n",
    "    yt_tensor = tf.convert_to_tensor(y_true)\n",
    "    ssim = np.mean(tf.image.ssim(yt_tensor[num],yp_tensor[num],1))\n",
    "    mse = np.mean(mse_loss(yt_tensor[num],yp_tensor[num]))\n",
    "    fig,ax = plt.subplots(nrows=5,ncols=13,figsize=(21,10),sharex=True,sharey=True)\n",
    "    fig.suptitle(f'Movie: {num} MSE: {mse:.3} SSIM: {ssim:.3}')\n",
    "    for row in range(5):\n",
    "        for col in range(13):\n",
    "            if col < 6:\n",
    "                ax[row,col].imshow(yp[num][5*row+col],cmap=\"gray\")\n",
    "            elif col == 6:\n",
    "                pass\n",
    "            else:\n",
    "                ax[row,col].imshow(yt[num][5*row + (col %7)],cmap=\"gray\")\n",
    "    if save:\n",
    "        fig.savefig(filename)\n",
    "\n",
    "def show_all_videos(videos,rows,cols):\n",
    "    yp = np.reshape(videos, (-1,30,32,32))\n",
    "    fix3,ax3 = plt.subplots(nrows=rows, ncols = cols)\n",
    "    for row in range(rows):\n",
    "        for col in range(cols):\n",
    "            ax3[row,col].imshow(yp[rows*row+col][3],cmap=\"gray\")"
   ]
  },
  {
   "cell_type": "code",
   "execution_count": null,
   "metadata": {},
   "outputs": [],
   "source": [
    "gpus = tensorflow.config.experimental.list_physical_devices('GPU')"
   ]
  },
  {
   "cell_type": "code",
   "execution_count": null,
   "metadata": {},
   "outputs": [],
   "source": [
    "gpus = tf.config.experimental.list_physical_devices('GPU')\n",
    "if gpus:\n",
    "  try:\n",
    "    # Currently, memory growth needs to be the same across GPUs\n",
    "    for gpu in gpus:\n",
    "      tf.config.experimental.set_memory_growth(gpu, True)\n",
    "    logical_gpus = tf.config.experimental.list_logical_devices('GPU')\n",
    "    print(len(gpus), \"Physical GPUs,\", len(logical_gpus), \"Logical GPUs\")\n",
    "  except RuntimeError as e:\n",
    "    # Memory growth must be set before GPUs have been initialized\n",
    "    print(e)"
   ]
  },
  {
   "cell_type": "code",
   "execution_count": 3,
   "metadata": {
    "scrolled": true
   },
   "outputs": [
    {
     "name": "stdout",
     "output_type": "stream",
     "text": [
      "Model: \"model\"\n",
      "__________________________________________________________________________________________________\n",
      "Layer (type)                    Output Shape         Param #     Connected to                     \n",
      "==================================================================================================\n",
      "input_1 (InputLayer)            [(None, 100, 256, 25 0                                            \n",
      "__________________________________________________________________________________________________\n",
      "time_distributed (TimeDistribut (None, 100, 256, 256 320         input_1[0][0]                    \n",
      "__________________________________________________________________________________________________\n",
      "dropout (Dropout)               (None, 100, 256, 256 0           time_distributed[0][0]           \n",
      "__________________________________________________________________________________________________\n",
      "time_distributed_1 (TimeDistrib (None, 100, 256, 256 9248        dropout[0][0]                    \n",
      "__________________________________________________________________________________________________\n",
      "time_distributed_2 (TimeDistrib (None, 100, 128, 128 0           time_distributed_1[0][0]         \n",
      "__________________________________________________________________________________________________\n",
      "time_distributed_3 (TimeDistrib (None, 100, 128, 128 18496       time_distributed_2[0][0]         \n",
      "__________________________________________________________________________________________________\n",
      "dropout_1 (Dropout)             (None, 100, 128, 128 0           time_distributed_3[0][0]         \n",
      "__________________________________________________________________________________________________\n",
      "time_distributed_4 (TimeDistrib (None, 100, 128, 128 36928       dropout_1[0][0]                  \n",
      "__________________________________________________________________________________________________\n",
      "time_distributed_5 (TimeDistrib (None, 100, 64, 64,  0           time_distributed_4[0][0]         \n",
      "__________________________________________________________________________________________________\n",
      "time_distributed_6 (TimeDistrib (None, 100, 64, 64,  73856       time_distributed_5[0][0]         \n",
      "__________________________________________________________________________________________________\n",
      "dropout_2 (Dropout)             (None, 100, 64, 64,  0           time_distributed_6[0][0]         \n",
      "__________________________________________________________________________________________________\n",
      "time_distributed_7 (TimeDistrib (None, 100, 64, 64,  147584      dropout_2[0][0]                  \n",
      "__________________________________________________________________________________________________\n",
      "time_distributed_8 (TimeDistrib (None, 100, 32, 32,  0           time_distributed_7[0][0]         \n",
      "__________________________________________________________________________________________________\n",
      "time_distributed_9 (TimeDistrib (None, 100, 32, 32,  295168      time_distributed_8[0][0]         \n",
      "__________________________________________________________________________________________________\n",
      "dropout_3 (Dropout)             (None, 100, 32, 32,  0           time_distributed_9[0][0]         \n",
      "__________________________________________________________________________________________________\n",
      "time_distributed_10 (TimeDistri (None, 100, 32, 32,  590080      dropout_3[0][0]                  \n",
      "__________________________________________________________________________________________________\n",
      "time_distributed_11 (TimeDistri (None, 100, 16, 16,  0           time_distributed_10[0][0]        \n",
      "__________________________________________________________________________________________________\n",
      "time_distributed_12 (TimeDistri (None, 100, 16, 16,  1180160     time_distributed_11[0][0]        \n",
      "__________________________________________________________________________________________________\n",
      "dropout_4 (Dropout)             (None, 100, 16, 16,  0           time_distributed_12[0][0]        \n",
      "__________________________________________________________________________________________________\n",
      "time_distributed_13 (TimeDistri (None, 100, 16, 16,  2359808     dropout_4[0][0]                  \n",
      "__________________________________________________________________________________________________\n",
      "time_distributed_14 (TimeDistri (None, 100, 32, 32,  524544      time_distributed_13[0][0]        \n",
      "__________________________________________________________________________________________________\n",
      "concatenate (Concatenate)       (None, 100, 32, 32,  0           time_distributed_14[0][0]        \n",
      "                                                                 time_distributed_10[0][0]        \n",
      "__________________________________________________________________________________________________\n",
      "time_distributed_15 (TimeDistri (None, 100, 32, 32,  1179904     concatenate[0][0]                \n",
      "__________________________________________________________________________________________________\n",
      "dropout_5 (Dropout)             (None, 100, 32, 32,  0           time_distributed_15[0][0]        \n",
      "__________________________________________________________________________________________________\n",
      "time_distributed_16 (TimeDistri (None, 100, 32, 32,  590080      dropout_5[0][0]                  \n",
      "__________________________________________________________________________________________________\n",
      "time_distributed_17 (TimeDistri (None, 100, 64, 64,  131200      time_distributed_16[0][0]        \n",
      "__________________________________________________________________________________________________\n",
      "concatenate_1 (Concatenate)     (None, 100, 64, 64,  0           time_distributed_17[0][0]        \n",
      "                                                                 time_distributed_7[0][0]         \n",
      "__________________________________________________________________________________________________\n",
      "time_distributed_18 (TimeDistri (None, 100, 64, 64,  295040      concatenate_1[0][0]              \n",
      "__________________________________________________________________________________________________\n",
      "dropout_6 (Dropout)             (None, 100, 64, 64,  0           time_distributed_18[0][0]        \n",
      "__________________________________________________________________________________________________\n",
      "time_distributed_19 (TimeDistri (None, 100, 64, 64,  147584      dropout_6[0][0]                  \n",
      "__________________________________________________________________________________________________\n",
      "time_distributed_20 (TimeDistri (None, 100, 128, 128 32832       time_distributed_19[0][0]        \n",
      "__________________________________________________________________________________________________\n",
      "concatenate_2 (Concatenate)     (None, 100, 128, 128 0           time_distributed_20[0][0]        \n",
      "                                                                 time_distributed_4[0][0]         \n",
      "__________________________________________________________________________________________________\n",
      "time_distributed_21 (TimeDistri (None, 100, 128, 128 73792       concatenate_2[0][0]              \n",
      "__________________________________________________________________________________________________\n",
      "dropout_7 (Dropout)             (None, 100, 128, 128 0           time_distributed_21[0][0]        \n",
      "__________________________________________________________________________________________________\n",
      "time_distributed_22 (TimeDistri (None, 100, 128, 128 36928       dropout_7[0][0]                  \n",
      "__________________________________________________________________________________________________\n",
      "time_distributed_23 (TimeDistri (None, 100, 256, 256 8224        time_distributed_22[0][0]        \n",
      "__________________________________________________________________________________________________\n",
      "time_distributed_24 (TimeDistri (None, 100, 256, 256 9248        time_distributed_23[0][0]        \n",
      "__________________________________________________________________________________________________\n",
      "dropout_8 (Dropout)             (None, 100, 256, 256 0           time_distributed_24[0][0]        \n",
      "__________________________________________________________________________________________________\n",
      "time_distributed_25 (TimeDistri (None, 100, 256, 256 9248        dropout_8[0][0]                  \n",
      "__________________________________________________________________________________________________\n",
      "time_distributed_26 (TimeDistri (None, 100, 256, 256 33          time_distributed_25[0][0]        \n",
      "==================================================================================================\n",
      "Total params: 7,750,305\n",
      "Trainable params: 7,750,305\n",
      "Non-trainable params: 0\n",
      "__________________________________________________________________________________________________\n"
     ]
    }
   ],
   "source": [
    "\"\"\" \n",
    "UNET MODEL (NO BATCH NORM)\n",
    "Fixing the weights for the bin_conv1 layer as well as the dense1 layer, ie NON TRAINABLE\n",
    "Feeding in weights from the forward_model above to see if that improves the results from previous session\n",
    "\n",
    "\"\"\"\n",
    "\n",
    "\n",
    "\n",
    "\n",
    "inputs = Input(shape=(100,256,256,1))\n",
    "c1 = TimeDistributed(Conv2D(32, (3, 3), activation='relu', kernel_initializer='he_normal', padding='same')) (inputs)\n",
    "c1 = Dropout(0.1) (c1)\n",
    "c1 = TimeDistributed(Conv2D(32, (3, 3), activation='relu', kernel_initializer='he_normal', padding='same') )(c1)\n",
    "p1 = TimeDistributed(MaxPooling2D((2, 2)))(c1)\n",
    "\n",
    "c2 = TimeDistributed(Conv2D(64, (3, 3), activation='relu', kernel_initializer='he_normal', padding='same'))(p1)\n",
    "c2 = Dropout(0.1) (c2)\n",
    "c2 = TimeDistributed(Conv2D(64, (3, 3), activation='relu', kernel_initializer='he_normal', padding='same') )(c2)\n",
    "p2 = TimeDistributed(MaxPooling2D((2, 2)) )(c2)\n",
    "\n",
    "c3 = TimeDistributed(Conv2D(128, (3, 3), activation='relu', kernel_initializer='he_normal', padding='same') )(p2)\n",
    "c3 = Dropout(0.2) (c3)\n",
    "c3 = TimeDistributed(Conv2D(128, (3, 3), activation='relu', kernel_initializer='he_normal', padding='same') )(c3)\n",
    "p3 = TimeDistributed(MaxPooling2D((2, 2)) )(c3)\n",
    "\n",
    "c4 = TimeDistributed(Conv2D(256, (3, 3), activation='relu', kernel_initializer='he_normal', padding='same') )(p3)\n",
    "c4 = Dropout(0.2) (c4)\n",
    "c4 = TimeDistributed(Conv2D(256, (3, 3), activation='relu', kernel_initializer='he_normal', padding='same') )(c4)\n",
    "p4 = TimeDistributed(MaxPooling2D(pool_size=(2, 2))) (c4)\n",
    "\n",
    "c5 = TimeDistributed(Conv2D(512, (3, 3), activation='relu', kernel_initializer='he_normal', padding='same')) (p4)\n",
    "c5 = Dropout(0.3) (c5)\n",
    "c5 = TimeDistributed(Conv2D(512, (3, 3), activation='relu', kernel_initializer='he_normal', padding='same')) (c5)\n",
    "\n",
    "u6 = TimeDistributed(Conv2DTranspose(256, (2, 2), strides=(2, 2), padding='same'))(c5)\n",
    "u6 = concatenate([u6, c4])\n",
    "c6 = TimeDistributed( Conv2D(256, (3, 3), activation='relu', kernel_initializer='he_normal', padding='same') )(u6)\n",
    "c6 = Dropout(0.2) (c6)\n",
    "c6 = TimeDistributed(Conv2D(256, (3, 3), activation='relu', kernel_initializer='he_normal', padding='same')) (c6)\n",
    "\n",
    "u7 = TimeDistributed(Conv2DTranspose(128, (2, 2), strides=(2, 2), padding='same') )(c6)\n",
    "u7 = concatenate([u7, c3])\n",
    "c7 = TimeDistributed(Conv2D(128, (3, 3), activation='relu', kernel_initializer='he_normal', padding='same')) (u7)\n",
    "c7 = Dropout(0.2) (c7)\n",
    "c7 = TimeDistributed(Conv2D(128, (3, 3), activation='relu', kernel_initializer='he_normal', padding='same')) (c7)\n",
    "    \n",
    "u8 = TimeDistributed(Conv2DTranspose(64, (2, 2), strides=(2, 2), padding='same') )(c7)\n",
    "u8 = concatenate([u8, c2])\n",
    "c8 = TimeDistributed(Conv2D(64, (3, 3), activation='relu', kernel_initializer='he_normal', padding='same')) (u8)\n",
    "c8 = Dropout(0.1) (c8)\n",
    "c8 = TimeDistributed(Conv2D(64, (3, 3), activation='relu', kernel_initializer='he_normal', padding='same')) (c8)\n",
    "\n",
    "u9 = TimeDistributed(Conv2DTranspose(32, (2, 2), strides=(2, 2), padding='same')) (c8)\n",
    "c9 = TimeDistributed(Conv2D(32, (3, 3), activation='relu', kernel_initializer='he_normal', padding='same')) (u9)\n",
    "c9 = Dropout(0.1) (c9)\n",
    "c9 = TimeDistributed(Conv2D(32, (3, 3), activation='relu', kernel_initializer='he_normal', padding='same')) (c9)\n",
    "    \n",
    "outputs = TimeDistributed(Conv2D(1, (1, 1), activation='sigmoid')) (c9)\n",
    "\n",
    "CUPNET2 = Model(inputs = [inputs], outputs = [outputs])\n",
    "    \n",
    "CUPNET2.compile(optimizer = Nadam(), loss = custom_loss, metrics = [ssim_loss,mse_loss],callbacks=[reduce_lr, early_stopping])\n",
    "CUPNET2.summary()"
   ]
  },
  {
   "cell_type": "code",
   "execution_count": null,
   "metadata": {},
   "outputs": [],
   "source": [
    "\"\"\" \n",
    "UNET MODEL\n",
    "Fixing the weights for the bin_conv1 layer as well as the dense1 layer, ie NON TRAINABLE\n",
    "Feeding in weights from the forward_model above to see if that improves the results from previous session\n",
    "\n",
    "\"\"\"\n",
    "inputs = Input(shape=(30,32,32,1))\n",
    "c1 = TimeDistributed(Conv2D(32, (3, 3), activation='relu', kernel_initializer='he_normal', padding='same')) (inputs)\n",
    "c1 = BatchNormalization() (c1)\n",
    "c1 = Dropout(0.1) (c1)\n",
    "c1 = TimeDistributed(Conv2D(32, (3, 3), activation='relu', kernel_initializer='he_normal', padding='same') )(c1)\n",
    "c1 = BatchNormalization() (c1)\n",
    "p1 = TimeDistributed(MaxPooling2D((2, 2)))(c1)\n",
    "\n",
    "c2 = TimeDistributed(Conv2D(64, (3, 3), activation='relu', kernel_initializer='he_normal', padding='same'))(p1)\n",
    "c2 = BatchNormalization() (c2)\n",
    "c2 = Dropout(0.1) (c2)\n",
    "c2 = TimeDistributed(Conv2D(64, (3, 3), activation='relu', kernel_initializer='he_normal', padding='same') )(c2)\n",
    "c2 = BatchNormalization() (c2)\n",
    "p2 = TimeDistributed(MaxPooling2D((2, 2)) )(c2)\n",
    "\n",
    "c3 = TimeDistributed(Conv2D(128, (3, 3), activation='relu', kernel_initializer='he_normal', padding='same') )(p2)\n",
    "c3 = BatchNormalization() (c3)\n",
    "c3 = Dropout(0.2) (c3)\n",
    "c3 = TimeDistributed(Conv2D(128, (3, 3), activation='relu', kernel_initializer='he_normal', padding='same') )(c3)\n",
    "c3 = BatchNormalization() (c3)\n",
    "p3 = TimeDistributed(MaxPooling2D((2, 2)) )(c3)\n",
    "\n",
    "c4 = TimeDistributed(Conv2D(256, (3, 3), activation='relu', kernel_initializer='he_normal', padding='same') )(p3)\n",
    "c4 = BatchNormalization() (c4)\n",
    "c4 = Dropout(0.2) (c4)\n",
    "c4 = TimeDistributed(Conv2D(256, (3, 3), activation='relu', kernel_initializer='he_normal', padding='same') )(c4)\n",
    "c4 = BatchNormalization() (c4)\n",
    "p4 = TimeDistributed(MaxPooling2D(pool_size=(2, 2))) (c4)\n",
    "\n",
    "c5 = TimeDistributed(Conv2D(512, (3, 3), activation='relu', kernel_initializer='he_normal', padding='same')) (p4)\n",
    "c5 = BatchNormalization() (c5)\n",
    "c5 = Dropout(0.3) (c5)\n",
    "c5 = TimeDistributed(Conv2D(512, (3, 3), activation='relu', kernel_initializer='he_normal', padding='same')) (c5)\n",
    "c5 = BatchNormalization() (c5)\n",
    "\n",
    "u6 = TimeDistributed(Conv2DTranspose(256, (2, 2), strides=(2, 2), padding='same'))(c5)\n",
    "u6 = concatenate([u6, c4])\n",
    "c6 = TimeDistributed( Conv2D(256, (3, 3), activation='relu', kernel_initializer='he_normal', padding='same') )(u6)\n",
    "c6 = BatchNormalization() (c6)\n",
    "c6 = Dropout(0.2) (c6)\n",
    "c6 = TimeDistributed(Conv2D(256, (3, 3), activation='relu', kernel_initializer='he_normal', padding='same')) (c6)\n",
    "c6 = BatchNormalization() (c6)\n",
    "\n",
    "u7 = TimeDistributed(Conv2DTranspose(128, (2, 2), strides=(2, 2), padding='same') )(c6)\n",
    "u7 = concatenate([u7, c3])\n",
    "c7 = TimeDistributed(Conv2D(128, (3, 3), activation='relu', kernel_initializer='he_normal', padding='same')) (u7)\n",
    "c7 = BatchNormalization() (c7)\n",
    "c7 = Dropout(0.2) (c7)\n",
    "c7 = TimeDistributed(Conv2D(128, (3, 3), activation='relu', kernel_initializer='he_normal', padding='same')) (c7)\n",
    "c7 = BatchNormalization() (c7)\n",
    "    \n",
    "u8 = TimeDistributed(Conv2DTranspose(64, (2, 2), strides=(2, 2), padding='same') )(c7)\n",
    "u8 = concatenate([u8, c2])\n",
    "c8 = TimeDistributed(Conv2D(64, (3, 3), activation='relu', kernel_initializer='he_normal', padding='same')) (u8)\n",
    "c8 = BatchNormalization() (c8)\n",
    "c8 = Dropout(0.1) (c8)\n",
    "c8 = TimeDistributed(Conv2D(64, (3, 3), activation='relu', kernel_initializer='he_normal', padding='same')) (c8)\n",
    "c8 = BatchNormalization() (c8)\n",
    "\n",
    "u9 = TimeDistributed(Conv2DTranspose(32, (2, 2), strides=(2, 2), padding='same')) (c8)\n",
    "c9 = TimeDistributed(Conv2D(32, (3, 3), activation='relu', kernel_initializer='he_normal', padding='same')) (u9)\n",
    "c9 = BatchNormalization() (c9)\n",
    "c9 = Dropout(0.1) (c9)\n",
    "c9 = TimeDistributed(Conv2D(32, (3, 3), activation='relu', kernel_initializer='he_normal', padding='same')) (c9)\n",
    "c9 = BatchNormalization() (c9)\n",
    "    \n",
    "outputs = TimeDistributed(Conv2D(1, (1, 1), activation='sigmoid')) (c9)\n",
    "\n",
    "CUPNET2 = Model(inputs = [inputs], outputs = [outputs])\n",
    "    \n",
    "CUPNET2.compile(optimizer = Nadam(), loss = custom_loss, metrics = [ssim_loss,mse_loss],callbacks=[reduce_lr, early_stopping])\n",
    "CUPNET2.summary()"
   ]
  },
  {
   "cell_type": "code",
   "execution_count": null,
   "metadata": {},
   "outputs": [
    {
     "name": "stdout",
     "output_type": "stream",
     "text": [
      "Train on 70 samples, validate on 30 samples\n",
      "Epoch 1/100\n"
     ]
    }
   ],
   "source": [
    "CUPNET2_history = CUPNET2.fit(MX_train, My_train,\n",
    "          batch_size = 3,epochs= 100,\n",
    "          verbose=2,validation_data=(MX_test,My_test),callbacks=[reduce_lr,early_stopping])"
   ]
  },
  {
   "cell_type": "code",
   "execution_count": null,
   "metadata": {},
   "outputs": [],
   "source": [
    "(np.square(np.zeros((32,32))-np.reshape(My_train[10][10],(32,32))).mean(axis=None))"
   ]
  },
  {
   "cell_type": "code",
   "execution_count": null,
   "metadata": {},
   "outputs": [],
   "source": [
    "y_train_pred = CUPNET2.predict(MX_train)\n",
    "y_test_pred = CUPNET2.predict(MX_test)\n"
   ]
  },
  {
   "cell_type": "code",
   "execution_count": null,
   "metadata": {},
   "outputs": [],
   "source": [
    "np.save('ball_lsqr_test_predictions',y_test_pred)\n",
    "np.save('ball_lsqr_train_predictions',y_train_pred)\n",
    "np.save('ball_lsqr_training_ims',My_train)\n",
    "np.save('ball_lsqr_test_ims',My_test)"
   ]
  },
  {
   "cell_type": "code",
   "execution_count": null,
   "metadata": {},
   "outputs": [],
   "source": [
    "show_video(y_train_pred,My_train,200)"
   ]
  },
  {
   "cell_type": "code",
   "execution_count": null,
   "metadata": {},
   "outputs": [],
   "source": [
    "show_video(y_test_pred,My_test,200,True,'lsqr_test_200.png')"
   ]
  },
  {
   "cell_type": "code",
   "execution_count": null,
   "metadata": {},
   "outputs": [],
   "source": [
    "CUPNET.load_weights(\"../../data/model_stuff/cupnet_jelly_weights_4_23.h5\")"
   ]
  },
  {
   "cell_type": "code",
   "execution_count": null,
   "metadata": {},
   "outputs": [],
   "source": [
    "b = CUPNET.layers[1].get_weights()\n",
    "b = binarize(tf.convert_to_tensor(b))\n",
    "b = np.reshape(b,(32,32))\n",
    "np.save('cupnet_jelly_mask',b)"
   ]
  },
  {
   "cell_type": "code",
   "execution_count": null,
   "metadata": {
    "scrolled": true
   },
   "outputs": [],
   "source": [
    "CUPNET.layers[1].set_weights(binary_weights)\n",
    "CUPNET.layers[6].set_weights(inverse_weights)\n",
    "CUPNET.summary()"
   ]
  },
  {
   "cell_type": "code",
   "execution_count": null,
   "metadata": {},
   "outputs": [],
   "source": [
    "\"\"\" CUPNET TRAINING \"\"\"\n",
    "CUPNET_history = CUPNET.fit(MX_train, My_train,\n",
    "          batch_size = 32,epochs= 100,\n",
    "          verbose=2,validation_data=(MX_test,My_test),callbacks=[reduce_lr,early_stopping])"
   ]
  },
  {
   "cell_type": "code",
   "execution_count": null,
   "metadata": {},
   "outputs": [],
   "source": [
    "CUPNET2.save_weights(\"../../data/model_stuff/cupnet2_ball_video_weights_5_3.h5\")"
   ]
  },
  {
   "cell_type": "code",
   "execution_count": null,
   "metadata": {},
   "outputs": [],
   "source": [
    "print(CUPNET_history.history.keys())"
   ]
  },
  {
   "cell_type": "code",
   "execution_count": null,
   "metadata": {},
   "outputs": [],
   "source": [
    "# summarize history for loss\n",
    "plt.plot(CUPNET_history.history['loss'])\n",
    "plt.plot(CUPNET_history.history['val_loss'])\n",
    "plt.title('model loss')\n",
    "plt.ylabel('loss')\n",
    "plt.xlabel('epoch')\n",
    "plt.legend(['train', 'test'], loc='upper left')\n",
    "plt.show()"
   ]
  },
  {
   "cell_type": "code",
   "execution_count": null,
   "metadata": {},
   "outputs": [],
   "source": [
    "plt.plot(forward_history.history['loss'])\n",
    "plt.plot(forward_history.history['val_loss'])\n",
    "plt.title('forward_model loss')\n",
    "plt.ylabel('loss')\n",
    "plt.xlabel('epoch')\n",
    "plt.legend(['train', 'test'], loc='upper left')\n",
    "plt.show()"
   ]
  },
  {
   "cell_type": "code",
   "execution_count": null,
   "metadata": {},
   "outputs": [],
   "source": [
    "y_train_pred = CUPNET.predict(MX_train)\n",
    "y_test_pred = CUPNET.predict(MX_test)\n"
   ]
  },
  {
   "cell_type": "code",
   "execution_count": null,
   "metadata": {},
   "outputs": [],
   "source": [
    "show_video(y_test_pred,MX_test,200,True,'test_balls_200.png')"
   ]
  },
  {
   "cell_type": "code",
   "execution_count": null,
   "metadata": {},
   "outputs": [],
   "source": [
    "show_video(y_train_pred,MX_train,200,True,'train_balls_200.png')"
   ]
  },
  {
   "cell_type": "code",
   "execution_count": null,
   "metadata": {},
   "outputs": [],
   "source": [
    "def store_many_hdf5(images,name):\n",
    "\n",
    "    num_images = len(images)\n",
    "    try:\n",
    "        os.mkdir(\"../../data/hdf5\")\n",
    "    except: \n",
    "        pass\n",
    "\n",
    "    # Create a new HDF5 file\n",
    "    file = h5py.File(hdf5_dir / f\"{name}_vids.h5\", \"w\")\n",
    "\n",
    "    # Create a dataset in the file\n",
    "    dataset = file.create_dataset(\n",
    "        \"images\", data=images\n",
    "    )    \n",
    "    \n",
    "    file.close()"
   ]
  },
  {
   "cell_type": "code",
   "execution_count": null,
   "metadata": {},
   "outputs": [],
   "source": [
    "np.save(\"../../data/hdf5/u_net_jelly_test_ims\",y_test_pred)"
   ]
  },
  {
   "cell_type": "code",
   "execution_count": null,
   "metadata": {},
   "outputs": [],
   "source": [
    "store_many_hdf5(y_test_pred,\"u_net_predict\")"
   ]
  },
  {
   "cell_type": "code",
   "execution_count": null,
   "metadata": {},
   "outputs": [],
   "source": [
    "import scipy.io as sio\n",
    "twist_jelly = sio.loadmat('../../data/hdf5/jelly_resized.mat')\n",
    "jelly = np.asarray(twist_jelly['sample'])\n",
    "jelly = np.transpose(jelly,(2,0,1))\n",
    "jelly = np.reshape(jelly[30:60], (1,30,32,32,1))\n",
    "print(np.shape(jelly))"
   ]
  },
  {
   "cell_type": "code",
   "execution_count": null,
   "metadata": {},
   "outputs": [],
   "source": [
    "j_pred = CUPNET.predict(jelly)"
   ]
  },
  {
   "cell_type": "code",
   "execution_count": null,
   "metadata": {},
   "outputs": [],
   "source": [
    "np.shape(y_test_pred)"
   ]
  },
  {
   "cell_type": "code",
   "execution_count": null,
   "metadata": {},
   "outputs": [],
   "source": [
    "ssims = []\n",
    "import random\n",
    "inds = random.sample(range(300),300)\n",
    "for i in inds:\n",
    "    ssims.append(np.mean(tf.image.ssim(tf.convert_to_tensor(y_test_pred[i]),tf.convert_to_tensor(My_test[i]),1)))\n",
    "    "
   ]
  },
  {
   "cell_type": "code",
   "execution_count": null,
   "metadata": {},
   "outputs": [],
   "source": [
    "min_ind = inds[np.argmin(ssims)]\n",
    "max_ind = inds[np.argmax(ssims)]\n",
    "print(max(ssims))\n",
    "print(np.mean(ssims))\n",
    "print(min(ssims))"
   ]
  },
  {
   "cell_type": "code",
   "execution_count": null,
   "metadata": {},
   "outputs": [],
   "source": [
    "show_video(y_test_pred,My_test,min_ind,True,'worst_lsqr_test_im.png')\n",
    "\n"
   ]
  },
  {
   "cell_type": "code",
   "execution_count": null,
   "metadata": {},
   "outputs": [],
   "source": [
    "z = h5py.File('../../data/tr500_600.hdf','r')\n",
    "z = z['data']\n",
    "np.shape(z)"
   ]
  },
  {
   "cell_type": "code",
   "execution_count": null,
   "metadata": {},
   "outputs": [],
   "source": [
    "def show_diff(im_true, im_pred,num,save=False,filename='image.png'):\n",
    "    im3 = im_true[num] - im_pred[num]\n",
    "    im3 = np.reshape(im3,(30,32,32))\n",
    "    im_true = np.reshape(im_true[num],(30,32,32))\n",
    "    fig,ax = plt.subplots(nrows=5,ncols=13,figsize=(21,10),sharex=True,sharey=True)\n",
    "    fig.suptitle(f'Difference Map and Ground Truth for Image {num}')\n",
    "    for row in range(5):\n",
    "        for col in range(13):\n",
    "            if col < 6:\n",
    "                ax[row,col].imshow(im3[5*row+col],cmap=\"gray\")\n",
    "            elif col == 6:\n",
    "                pass\n",
    "            else:\n",
    "                ax[row,col].imshow(im_true[5*row + (col %7)],cmap=\"gray\")\n",
    "    if save:\n",
    "        dir = '../../data/'\n",
    "        fig.savefig(dir+filename)"
   ]
  },
  {
   "cell_type": "code",
   "execution_count": null,
   "metadata": {},
   "outputs": [],
   "source": [
    "show_diff(My_test,y_test_pred,min_ind,True,'worst_lsqr_test_diff.png')"
   ]
  },
  {
   "cell_type": "code",
   "execution_count": null,
   "metadata": {},
   "outputs": [],
   "source": [
    "show_diff(My_test,y_test_pred,max_ind,True,'best_lsqr_test_diff.png')"
   ]
  },
  {
   "cell_type": "code",
   "execution_count": null,
   "metadata": {},
   "outputs": [],
   "source": []
  }
 ],
 "metadata": {
  "kernelspec": {
   "display_name": "Python 3",
   "language": "python",
   "name": "python3"
  },
  "language_info": {
   "codemirror_mode": {
    "name": "ipython",
    "version": 3
   },
   "file_extension": ".py",
   "mimetype": "text/x-python",
   "name": "python",
   "nbconvert_exporter": "python",
   "pygments_lexer": "ipython3",
   "version": "3.7.6"
  }
 },
 "nbformat": 4,
 "nbformat_minor": 4
}
